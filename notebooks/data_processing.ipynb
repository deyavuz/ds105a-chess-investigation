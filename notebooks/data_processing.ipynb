{
 "cells": [
  {
   "cell_type": "code",
   "execution_count": 8,
   "metadata": {},
   "outputs": [],
   "source": [
    "import sqlite3\n",
    "import json\n",
    "import os\n",
    "import re\n",
    "import pandas as pd\n"
   ]
  },
  {
   "cell_type": "code",
   "execution_count": 4,
   "metadata": {},
   "outputs": [],
   "source": [
    "# Top Chess Players in the world as of December 16, 2024\n",
    "# Ordering within the dictionary does not matter\n",
    "# Temporary way of accessing everything\n",
    "top_players =[\n",
    "    {'name': 'Magnus_Carlsen', 'fide_number': '1503014', 'chess_com_username': 'magnuscarlsen'},\n",
    "    {'name': 'Fabiano_Caruana', 'fide_number': '2020009', 'chess_com_username': 'fabianocaruana'},\n",
    "    {'name': 'Hikaru_Nakamura', 'fide_number': '2016192', 'chess_com_username': 'hikaru'},\n",
    "    {'name': 'Arjun_Erigaisi', 'fide_number': '35009192', 'chess_com_username': 'ghandeevam2003'},\n",
    "    {'name': 'Gukesh_Dommaraju', 'fide_number': '46616543', 'chess_com_username': 'gukeshdommaraju'},\n",
    "    {'name': 'Nodirbek_Abdusattorov', 'fide_number': '14204118', 'chess_com_username': 'chesswarrior7197'},\n",
    "    {'name': 'Alireza_Firouzja', 'fide_number': '12573981', 'chess_com_username': 'firouzja2003'},\n",
    "    {'name': 'Ian_Nepomniachtchi', 'fide_number': '4168119', 'chess_com_username': 'lachesisq'},\n",
    "    {'name': 'Yi_Wei', 'fide_number': '8603405', 'chess_com_username': 'wei-yi'},\n",
    "    {'name': 'Viswanathan_Anand', 'fide_number': '5000017', 'chess_com_username': 'thevish'}\n",
    "]"
   ]
  },
  {
   "cell_type": "markdown",
   "metadata": {},
   "source": [
    "## Database Origin ##\n",
    "\n",
    "This pathway will be used in all functions as the dedicated location of the database we work on"
   ]
  },
  {
   "cell_type": "code",
   "execution_count": 12,
   "metadata": {},
   "outputs": [],
   "source": [
    "db_path = \"../data/chess.db\""
   ]
  },
  {
   "cell_type": "markdown",
   "metadata": {},
   "source": [
    "# Fide Database Clean Up # "
   ]
  },
  {
   "cell_type": "markdown",
   "metadata": {},
   "source": [
    "In this section we will write a function which receives a json file from the Fide folder and moves the data into a SQL database with 2 tables.\n",
    "\n",
    "The first table will hold non-timeseries data from the FIDE site (IE rankings, country, etc) while the other will focus on their historical elo progression."
   ]
  },
  {
   "cell_type": "code",
   "execution_count": 22,
   "metadata": {},
   "outputs": [],
   "source": [
    "def process_player_json(json_file, database_path= db_path):\n",
    "    \"\"\"\n",
    "    Processes a single player's JSON file and updates the database.\n",
    "    Creates/updates entry in shared player_info table and maintains a unified player_history table.\n",
    "\n",
    "    Args:\n",
    "        json_file (str): Path to the JSON file for the player.\n",
    "        database_path (str): Path to the SQLite database file.\n",
    "\n",
    "    Returns:\n",
    "        bool: True if successful, False if an error occurred.\n",
    "    \"\"\"\n",
    "    try:\n",
    "        # Read the JSON file\n",
    "        with open(json_file, \"r\") as file:\n",
    "            data = json.load(file)\n",
    "\n",
    "        # Extract history and player info\n",
    "        history_data = data.pop(\"history\")\n",
    "        player_info = data\n",
    "\n",
    "        # Connect to the database\n",
    "        with sqlite3.connect(database_path) as conn:\n",
    "            cursor = conn.cursor()\n",
    "\n",
    "            # Enable foreign key support\n",
    "            cursor.execute(\"PRAGMA foreign_keys = ON\")\n",
    "\n",
    "            # Create or update the shared player_info table\n",
    "            cursor.execute(\"\"\"\n",
    "                CREATE TABLE IF NOT EXISTS player_info (\n",
    "                    player_id INTEGER PRIMARY KEY AUTOINCREMENT,\n",
    "                    name TEXT UNIQUE,\n",
    "                    federation TEXT,\n",
    "                    birth_year INTEGER,\n",
    "                    sex TEXT,\n",
    "                    title TEXT,\n",
    "                    world_rank_all_players INTEGER,\n",
    "                    world_rank_active_players INTEGER,\n",
    "                    national_rank_all_players INTEGER,\n",
    "                    national_rank_active_players INTEGER,\n",
    "                    continental_rank_all_players INTEGER,\n",
    "                    continental_rank_active_players INTEGER\n",
    "                )\n",
    "            \"\"\")\n",
    "\n",
    "            # Update or insert player info\n",
    "            cursor.execute(\"\"\"\n",
    "                INSERT OR REPLACE INTO player_info (\n",
    "                    name, federation, birth_year, sex, title, standard_elo, rapid_elo, blitz_elo,\n",
    "                    world_rank_all_players, world_rank_active_players,\n",
    "                    national_rank_all_players, national_rank_active_players,\n",
    "                    continental_rank_all_players, continental_rank_active_players\n",
    "                ) VALUES (\n",
    "                    :name, :federation, :birth_year, :sex, :title, :standard_elo, :rapid_elo, :blitz_elo,\n",
    "                    :world_rank_all_players, :world_rank_active_players,\n",
    "                    :national_rank_all_players, :national_rank_active_players,\n",
    "                    :continental_rank_all_players, :continental_rank_active_players\n",
    "                )\n",
    "            \"\"\", player_info)\n",
    "\n",
    "            # Get the player_id\n",
    "            cursor.execute(\"SELECT player_id FROM player_info WHERE name = ?\", (player_info['name'],))\n",
    "            player_id = cursor.fetchone()[0]\n",
    "\n",
    "            # Create or update the unified player_history table\n",
    "            cursor.execute(\"\"\"\n",
    "                CREATE TABLE IF NOT EXISTS player_history (\n",
    "                    id INTEGER PRIMARY KEY AUTOINCREMENT,\n",
    "                    player_id INTEGER,\n",
    "                    date TEXT,\n",
    "                    numeric_date INTEGER,\n",
    "                    standard TEXT,\n",
    "                    num_standard_games TEXT,\n",
    "                    rapid TEXT,\n",
    "                    num_rapid_games TEXT,\n",
    "                    blitz TEXT,\n",
    "                    num_blitz_games TEXT,\n",
    "                    FOREIGN KEY (player_id) REFERENCES player_info(player_id)\n",
    "                )\n",
    "            \"\"\")\n",
    "\n",
    "            # Add player_id to each history record\n",
    "            for record in history_data:\n",
    "                record['player_id'] = player_id\n",
    "\n",
    "            # Insert new history data\n",
    "            cursor.executemany(\"\"\"\n",
    "                INSERT OR REPLACE INTO player_history (\n",
    "                    player_id, date, numeric_date, standard, num_standard_games,\n",
    "                    rapid, num_rapid_games, blitz, num_blitz_games\n",
    "                ) VALUES (\n",
    "                    :player_id, :date, :numeric_date, :standard, :num_standard_games,\n",
    "                    :rapid, :num_rapid_games, :blitz, :num_blitz_games\n",
    "                )\n",
    "            \"\"\", history_data)\n",
    "\n",
    "        print(f\"Successfully processed data for '{player_info['name']}'\")\n",
    "        return True\n",
    "\n",
    "    except json.JSONDecodeError as e:\n",
    "        print(f\"Error reading JSON file {json_file}: {e}\")\n",
    "        return False\n",
    "    except sqlite3.Error as e:\n",
    "        print(f\"Database error occurred: {e}\")\n",
    "        return False\n",
    "    except Exception as e:\n",
    "        print(f\"Unexpected error occurred: {e}\")\n",
    "        return False\n"
   ]
  },
  {
   "cell_type": "markdown",
   "metadata": {},
   "source": [
    "The loop below iterates through each of the json files and uses the process_player_json() to create a singular FIDE database "
   ]
  },
  {
   "cell_type": "code",
   "execution_count": 23,
   "metadata": {},
   "outputs": [
    {
     "name": "stdout",
     "output_type": "stream",
     "text": [
      "Successfully processed data for 'Carlsen, Magnus '\n",
      "Successfully processed data for 'Caruana, Fabiano '\n",
      "Successfully processed data for 'Nakamura, Hikaru '\n",
      "Successfully processed data for 'Erigaisi Arjun '\n",
      "Successfully processed data for 'Gukesh D '\n",
      "Successfully processed data for 'Abdusattorov, Nodirbek '\n",
      "Successfully processed data for 'Firouzja, Alireza '\n",
      "Successfully processed data for 'Nepomniachtchi, Ian '\n",
      "Successfully processed data for 'Wei, Yi '\n",
      "Successfully processed data for 'Anand, Viswanathan '\n"
     ]
    }
   ],
   "source": [
    "for player in top_players:\n",
    "    name = player[\"name\"]\n",
    "    process_player_json(f\"/files/ds105a-2024-project-fork_force/data/Fide/{name}_fide.json\")"
   ]
  }
 ],
 "metadata": {
  "kernelspec": {
   "display_name": "base",
   "language": "python",
   "name": "python3"
  },
  "language_info": {
   "codemirror_mode": {
    "name": "ipython",
    "version": 3
   },
   "file_extension": ".py",
   "mimetype": "text/x-python",
   "name": "python",
   "nbconvert_exporter": "python",
   "pygments_lexer": "ipython3",
   "version": "3.11.8"
  }
 },
 "nbformat": 4,
 "nbformat_minor": 2
}
