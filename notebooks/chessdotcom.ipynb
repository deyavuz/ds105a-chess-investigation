{
 "cells": [
  {
   "cell_type": "code",
   "execution_count": 1,
   "metadata": {},
   "outputs": [],
   "source": [
    "import os\n",
    "import json\n",
    "import requests\n",
    "import pandas as pd\n",
    "\n",
    "from serpapi import GoogleSearch\n",
    "\n",
    "from dotenv import load_dotenv\n",
    "\n",
    "from tqdm.notebook import tqdm\n",
    "tqdm.pandas()"
   ]
  },
  {
   "cell_type": "code",
   "execution_count": null,
   "metadata": {},
   "outputs": [],
   "source": [
    "top_players =[\n",
    "    {'name': 'Magnus_Carlsen', 'fide_number': '1503014', 'chess_com_username': 'magnuscarlsen'},\n",
    "    {'name': 'Fabiano_Caruana', 'fide_number': '2020009', 'chess_com_username': 'fabianocaruana'},\n",
    "    {'name': 'Hikaru_Nakamura', 'fide_number': '2016192', 'chess_com_username': 'hikaru'},\n",
    "    {'name': 'Arjun_Erigaisi', 'fide_number': '35009192', 'chess_com_username': 'ghandeevam2003'},\n",
    "    {'name': 'Gukesh_Dommaraju', 'fide_number': '46616543', 'chess_com_username': 'gukeshdommaraju'},\n",
    "    {'name': 'Nodirbek_Abdusattorov', 'fide_number': '14204118', 'chess_com_username': 'chesswarrior7197'},\n",
    "    {'name': 'Alireza-Firouzja', 'fide_number': '12573981', 'chess_com_username': 'firouzja2003'},\n",
    "    {'name': 'Ian_Nepomniachtchi', 'fide_number': '4168119', 'chess_com_username': 'lachesisq'},\n",
    "    {'name': 'Yi_Wei', 'fide_number': '8603405', 'chess_com_username': 'wei-yi'},\n",
    "    {'name': 'Viswanathan_Anand', 'fide_number': '5000017', 'chess_com_username': 'thevish'}\n",
    "]"
   ]
  },
  {
   "cell_type": "code",
   "execution_count": 8,
   "metadata": {},
   "outputs": [
    {
     "name": "stdout",
     "output_type": "stream",
     "text": [
      "https://api.chess.com/pub/player/hikaru/stats\n"
     ]
    }
   ],
   "source": [
    "print(\"https://api.chess.com/pub/player/hikaru/stats\")"
   ]
  },
  {
   "cell_type": "code",
   "execution_count": 6,
   "metadata": {},
   "outputs": [
    {
     "name": "stdout",
     "output_type": "stream",
     "text": [
      "https://api.chess.com/pub/player/hikaru/stats\n"
     ]
    }
   ],
   "source": [
    "print(\"https://api.chess.com/pub/player/hikaru/stats\")\n"
   ]
  },
  {
   "cell_type": "markdown",
   "metadata": {},
   "source": [
    "Attempt 1"
   ]
  },
  {
   "cell_type": "code",
   "execution_count": null,
   "metadata": {},
   "outputs": [],
   "source": [
    "top_players = [\n",
    "    {'name': 'Magnus_Carlsen', 'fide_number': '1503014', 'chess_com_username': 'magnuscarlsen'},\n",
    "    {'name': 'Fabiano_Caruana', 'fide_number': '2020009', 'chess_com_username': 'fabianocaruana'},\n",
    "    {'name': 'Hikaru_Nakamura', 'fide_number': '2016192', 'chess_com_username': 'hikaru'},\n",
    "    {'name': 'Arjun_Erigaisi', 'fide_number': '35009192', 'chess_com_username': 'ghandeevam2003'},\n",
    "    {'name': 'Gukesh_Dommaraju', 'fide_number': '46616543', 'chess_com_username': 'gukeshdommaraju'},\n",
    "    {'name': 'Nodirbek_Abdusattorov', 'fide_number': '14204118', 'chess_com_username': 'chesswarrior7197'},\n",
    "    {'name': 'Alireza-Firouzja', 'fide_number': '12573981', 'chess_com_username': 'firouzja2003'},\n",
    "    {'name': 'Ian_Nepomniachtchi', 'fide_number': '4168119', 'chess_com_username': 'lachesisq'},\n",
    "    {'name': 'Yi_Wei', 'fide_number': '8603405', 'chess_com_username': 'wei-yi'},\n",
    "    {'name': 'Viswanathan_Anand', 'fide_number': '5000017', 'chess_com_username': 'thevish'}\n",
    "]"
   ]
  },
  {
   "cell_type": "code",
   "execution_count": 9,
   "metadata": {},
   "outputs": [],
   "source": [
    "import requests\n",
    "import pandas as pd\n",
    "import time  # For adding delay\n",
    "\n",
    "base_url = \"https://api.chess.com/pub/player/{}/stats\"\n",
    "headers = {\n",
    "    \"User-Agent\": \"Python script for educational use\"\n",
    "}\n"
   ]
  },
  {
   "cell_type": "code",
   "execution_count": 14,
   "metadata": {},
   "outputs": [
    {
     "name": "stdout",
     "output_type": "stream",
     "text": [
      "Fetching data for Magnus Carlsen...\n",
      "Data fetched successfully for magnuscarlsen.\n",
      "Fetching data for Fabiano Caruana...\n",
      "Data fetched successfully for fabianocaruana.\n",
      "Fetching data for Hikaru Nakamura...\n",
      "Data fetched successfully for hikaru.\n",
      "Fetching data for Arjun Erigaisi...\n",
      "Data fetched successfully for ghandeevam2003.\n",
      "Fetching data for Gukesh Dommaraju...\n",
      "Data fetched successfully for gukeshdommaraju.\n",
      "Fetching data for Nodirbek Abdusattorov...\n",
      "Data fetched successfully for chesswarrior7197.\n",
      "Fetching data for Alireza Firouzja...\n",
      "Data fetched successfully for firouzja2003.\n",
      "Fetching data for Ian Nepomniachtchi...\n",
      "Data fetched successfully for lachesisq.\n",
      "Fetching data for Wei Yi...\n",
      "Data fetched successfully for wei-yi.\n",
      "Fetching data for Viswanathan Anand...\n",
      "Data fetched successfully for thevish.\n",
      "                    name          username  current_classic  current_blitz  \\\n",
      "0         Magnus Carlsen     magnuscarlsen              NaN         3252.0   \n",
      "1        Fabiano Caruana    fabianocaruana              NaN         3114.0   \n",
      "2        Hikaru Nakamura            hikaru           2239.0         3305.0   \n",
      "3         Arjun Erigaisi    ghandeevam2003           1187.0         3084.0   \n",
      "4       Gukesh Dommaraju   gukeshdommaraju              NaN         3023.0   \n",
      "5  Nodirbek Abdusattorov  chesswarrior7197           1439.0         3139.0   \n",
      "6       Alireza Firouzja      firouzja2003              NaN         3164.0   \n",
      "7     Ian Nepomniachtchi         lachesisq           1008.0         3148.0   \n",
      "8                 Wei Yi            wei-yi              NaN            NaN   \n",
      "9      Viswanathan Anand           thevish              NaN         2620.0   \n",
      "\n",
      "   current_rapid  \n",
      "0           2906  \n",
      "1           2823  \n",
      "2           2769  \n",
      "3           2719  \n",
      "4           2729  \n",
      "5           2759  \n",
      "6           2870  \n",
      "7           2827  \n",
      "8           1457  \n",
      "9           2731  \n"
     ]
    }
   ],
   "source": [
    "import pandas as pd\n",
    "\n",
    "def fetch_all_players_stats(players):\n",
    "    player_stats = []\n",
    "\n",
    "    for player in players:\n",
    "        print(f\"Fetching data for {player['name']}...\")\n",
    "        stats = fetch_player_stats(player['chess_com_username'])\n",
    "        \n",
    "        if stats:\n",
    "            # Extract relevant information from the stats\n",
    "            player_info = {\n",
    "                'name': player['name'],\n",
    "                'username': player['chess_com_username'],\n",
    "                'current_classic': stats.get('chess_daily', {}).get('last', {}).get('rating', None),\n",
    "                'current_blitz': stats.get('chess_blitz', {}).get('last', {}).get('rating', None),\n",
    "                'current_rapid': stats.get('chess_rapid', {}).get('last', {}).get('rating', None),\n",
    "            }\n",
    "            player_stats.append(player_info)\n",
    "\n",
    "        time.sleep(1)  # Adding a delay between requests\n",
    "\n",
    "    # Convert the collected data into a DataFrame\n",
    "    df = pd.DataFrame(player_stats)\n",
    "    return df\n",
    "\n",
    "# Fetch stats for all players and store it in a DataFrame\n",
    "df_players_stats = fetch_all_players_stats(top_players)\n",
    "\n",
    "# Print the DataFrame in the console\n",
    "print(df_players_stats)\n"
   ]
  },
  {
   "cell_type": "code",
   "execution_count": 17,
   "metadata": {},
   "outputs": [
    {
     "data": {
      "text/html": [
       "<div>\n",
       "<style scoped>\n",
       "    .dataframe tbody tr th:only-of-type {\n",
       "        vertical-align: middle;\n",
       "    }\n",
       "\n",
       "    .dataframe tbody tr th {\n",
       "        vertical-align: top;\n",
       "    }\n",
       "\n",
       "    .dataframe thead th {\n",
       "        text-align: right;\n",
       "    }\n",
       "</style>\n",
       "<table border=\"1\" class=\"dataframe\">\n",
       "  <thead>\n",
       "    <tr style=\"text-align: right;\">\n",
       "      <th></th>\n",
       "      <th>name</th>\n",
       "      <th>username</th>\n",
       "      <th>current_classic</th>\n",
       "      <th>current_blitz</th>\n",
       "      <th>current_rapid</th>\n",
       "    </tr>\n",
       "  </thead>\n",
       "  <tbody>\n",
       "    <tr>\n",
       "      <th>0</th>\n",
       "      <td>Magnus Carlsen</td>\n",
       "      <td>magnuscarlsen</td>\n",
       "      <td>NaN</td>\n",
       "      <td>3252.0</td>\n",
       "      <td>2906</td>\n",
       "    </tr>\n",
       "    <tr>\n",
       "      <th>1</th>\n",
       "      <td>Fabiano Caruana</td>\n",
       "      <td>fabianocaruana</td>\n",
       "      <td>NaN</td>\n",
       "      <td>3114.0</td>\n",
       "      <td>2823</td>\n",
       "    </tr>\n",
       "    <tr>\n",
       "      <th>2</th>\n",
       "      <td>Hikaru Nakamura</td>\n",
       "      <td>hikaru</td>\n",
       "      <td>2239.0</td>\n",
       "      <td>3305.0</td>\n",
       "      <td>2769</td>\n",
       "    </tr>\n",
       "    <tr>\n",
       "      <th>3</th>\n",
       "      <td>Arjun Erigaisi</td>\n",
       "      <td>ghandeevam2003</td>\n",
       "      <td>1187.0</td>\n",
       "      <td>3084.0</td>\n",
       "      <td>2719</td>\n",
       "    </tr>\n",
       "    <tr>\n",
       "      <th>4</th>\n",
       "      <td>Gukesh Dommaraju</td>\n",
       "      <td>gukeshdommaraju</td>\n",
       "      <td>NaN</td>\n",
       "      <td>3023.0</td>\n",
       "      <td>2729</td>\n",
       "    </tr>\n",
       "    <tr>\n",
       "      <th>5</th>\n",
       "      <td>Nodirbek Abdusattorov</td>\n",
       "      <td>chesswarrior7197</td>\n",
       "      <td>1439.0</td>\n",
       "      <td>3139.0</td>\n",
       "      <td>2759</td>\n",
       "    </tr>\n",
       "    <tr>\n",
       "      <th>6</th>\n",
       "      <td>Alireza Firouzja</td>\n",
       "      <td>firouzja2003</td>\n",
       "      <td>NaN</td>\n",
       "      <td>3164.0</td>\n",
       "      <td>2870</td>\n",
       "    </tr>\n",
       "    <tr>\n",
       "      <th>7</th>\n",
       "      <td>Ian Nepomniachtchi</td>\n",
       "      <td>lachesisq</td>\n",
       "      <td>1008.0</td>\n",
       "      <td>3148.0</td>\n",
       "      <td>2827</td>\n",
       "    </tr>\n",
       "    <tr>\n",
       "      <th>8</th>\n",
       "      <td>Wei Yi</td>\n",
       "      <td>wei-yi</td>\n",
       "      <td>NaN</td>\n",
       "      <td>NaN</td>\n",
       "      <td>1457</td>\n",
       "    </tr>\n",
       "    <tr>\n",
       "      <th>9</th>\n",
       "      <td>Viswanathan Anand</td>\n",
       "      <td>thevish</td>\n",
       "      <td>NaN</td>\n",
       "      <td>2620.0</td>\n",
       "      <td>2731</td>\n",
       "    </tr>\n",
       "  </tbody>\n",
       "</table>\n",
       "</div>"
      ],
      "text/plain": [
       "                    name          username  current_classic  current_blitz  \\\n",
       "0         Magnus Carlsen     magnuscarlsen              NaN         3252.0   \n",
       "1        Fabiano Caruana    fabianocaruana              NaN         3114.0   \n",
       "2        Hikaru Nakamura            hikaru           2239.0         3305.0   \n",
       "3         Arjun Erigaisi    ghandeevam2003           1187.0         3084.0   \n",
       "4       Gukesh Dommaraju   gukeshdommaraju              NaN         3023.0   \n",
       "5  Nodirbek Abdusattorov  chesswarrior7197           1439.0         3139.0   \n",
       "6       Alireza Firouzja      firouzja2003              NaN         3164.0   \n",
       "7     Ian Nepomniachtchi         lachesisq           1008.0         3148.0   \n",
       "8                 Wei Yi            wei-yi              NaN            NaN   \n",
       "9      Viswanathan Anand           thevish              NaN         2620.0   \n",
       "\n",
       "   current_rapid  \n",
       "0           2906  \n",
       "1           2823  \n",
       "2           2769  \n",
       "3           2719  \n",
       "4           2729  \n",
       "5           2759  \n",
       "6           2870  \n",
       "7           2827  \n",
       "8           1457  \n",
       "9           2731  "
      ]
     },
     "execution_count": 17,
     "metadata": {},
     "output_type": "execute_result"
    }
   ],
   "source": [
    "df_players_stats"
   ]
  },
  {
   "cell_type": "code",
   "execution_count": null,
   "metadata": {},
   "outputs": [],
   "source": []
  }
 ],
 "metadata": {
  "kernelspec": {
   "display_name": ".venv",
   "language": "python",
   "name": "python3"
  },
  "language_info": {
   "codemirror_mode": {
    "name": "ipython",
    "version": 3
   },
   "file_extension": ".py",
   "mimetype": "text/x-python",
   "name": "python",
   "nbconvert_exporter": "python",
   "pygments_lexer": "ipython3",
   "version": "3.10.0"
  }
 },
 "nbformat": 4,
 "nbformat_minor": 2
}
