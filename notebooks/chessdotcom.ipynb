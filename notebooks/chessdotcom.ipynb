{
 "cells": [
  {
   "cell_type": "code",
   "execution_count": 1,
   "metadata": {},
   "outputs": [],
   "source": [
    "import os\n",
    "import json\n",
    "import requests\n",
    "import pandas as pd\n",
    "\n",
    "from serpapi import GoogleSearch\n",
    "\n",
    "from dotenv import load_dotenv\n",
    "\n",
    "from tqdm.notebook import tqdm\n",
    "tqdm.pandas()"
   ]
  },
  {
   "cell_type": "code",
   "execution_count": null,
   "metadata": {},
   "outputs": [],
   "source": [
    "top_players =[\n",
    "    {'name': 'Magnus_Carlsen', 'fide_number': '1503014', 'chess_com_username': 'magnuscarlsen'},\n",
    "    {'name': 'Fabiano_Caruana', 'fide_number': '2020009', 'chess_com_username': 'fabianocaruana'},\n",
    "    {'name': 'Hikaru_Nakamura', 'fide_number': '2016192', 'chess_com_username': 'hikaru'},\n",
    "    {'name': 'Arjun_Erigaisi', 'fide_number': '35009192', 'chess_com_username': 'ghandeevam2003'},\n",
    "    {'name': 'Gukesh_Dommaraju', 'fide_number': '46616543', 'chess_com_username': 'gukeshdommaraju'},\n",
    "    {'name': 'Nodirbek_Abdusattorov', 'fide_number': '14204118', 'chess_com_username': 'chesswarrior7197'},\n",
    "    {'name': 'Alireza-Firouzja', 'fide_number': '12573981', 'chess_com_username': 'firouzja2003'},\n",
    "    {'name': 'Ian_Nepomniachtchi', 'fide_number': '4168119', 'chess_com_username': 'lachesisq'},\n",
    "    {'name': 'Yi_Wei', 'fide_number': '8603405', 'chess_com_username': 'wei-yi'},\n",
    "    {'name': 'Viswanathan_Anand', 'fide_number': '5000017', 'chess_com_username': 'thevish'}\n",
    "]"
   ]
  },
  {
   "cell_type": "code",
   "execution_count": 8,
   "metadata": {},
   "outputs": [
    {
     "name": "stdout",
     "output_type": "stream",
     "text": [
      "https://api.chess.com/pub/player/hikaru/stats\n"
     ]
    }
   ],
   "source": [
    "print(\"https://api.chess.com/pub/player/hikaru/stats\")"
   ]
  },
  {
   "cell_type": "code",
   "execution_count": 5,
   "metadata": {},
   "outputs": [
    {
     "name": "stdout",
     "output_type": "stream",
     "text": [
      "Failed to fetch stats for magnuscarlsen (Status Code: 403)\n",
      "Failed to fetch stats for fabianocaruana (Status Code: 403)\n",
      "Failed to fetch stats for hikaru (Status Code: 403)\n",
      "Failed to fetch stats for ghandeevam2003 (Status Code: 403)\n",
      "Failed to fetch stats for gukeshdommaraju (Status Code: 403)\n",
      "Failed to fetch stats for chesswarrior7197 (Status Code: 403)\n",
      "Failed to fetch stats for firouzja2003 (Status Code: 403)\n",
      "Failed to fetch stats for lachesisq (Status Code: 403)\n",
      "Failed to fetch stats for wei-yi (Status Code: 403)\n",
      "Failed to fetch stats for thevish (Status Code: 403)\n",
      "Empty DataFrame\n",
      "Columns: []\n",
      "Index: []\n"
     ]
    }
   ],
   "source": [
    "import requests\n",
    "import pandas as pd\n",
    "\n",
    "def get_chess_com_player_stats(player_list):\n",
    "\n",
    "    player_data = []\n",
    "\n",
    "    for idx, player in enumerate(player_list):\n",
    "        username = player['chess_com_username']\n",
    "        stats_url = f\"https://api.chess.com/pub/player/{username}/stats\"\n",
    "\n",
    "        try:\n",
    "            response = requests.get(stats_url)\n",
    "            if response.status_code == 200:\n",
    "                stats = response.json()\n",
    "\n",
    "                # Extract relevant ratings from the JSON response\n",
    "                classic = stats.get('chess_daily', {}).get('last', {}).get('rating', 'N/A')\n",
    "                blitz = stats.get('chess_blitz', {}).get('last', {}).get('rating', 'N/A')\n",
    "                rapid = stats.get('chess_rapid', {}).get('last', {}).get('rating', 'N/A')\n",
    "\n",
    "                # Append data for this player\n",
    "                player_data.append({\n",
    "                    'ID': idx + 1,\n",
    "                    'Name': player['name'],\n",
    "                    'Username': username,\n",
    "                    'Classic Rating': classic,\n",
    "                    'Blitz Rating': blitz,\n",
    "                    'Rapid Rating': rapid\n",
    "                })\n",
    "            else:\n",
    "                print(f\"Failed to fetch stats for {username} (Status Code: {response.status_code})\")\n",
    "        except Exception as e:\n",
    "            print(f\"Error fetching stats for {username}: {e}\")\n",
    "\n",
    "    # Convert to pandas DataFrame\n",
    "    return pd.DataFrame(player_data)\n",
    "\n",
    "# List of top players\n",
    "top_players = [\n",
    "    {'name': 'Magnus Carlsen', 'fide_number': '1503014', 'chess_com_username': 'magnuscarlsen'},\n",
    "    {'name': 'Fabiano Caruana', 'fide_number': '2020009', 'chess_com_username': 'fabianocaruana'},\n",
    "    {'name': 'Hikaru Nakamura', 'fide_number': '2016192', 'chess_com_username': 'hikaru'},\n",
    "    {'name': 'Arjun Erigaisi', 'fide_number': '35009192', 'chess_com_username': 'ghandeevam2003'},\n",
    "    {'name': 'Gukesh Dommaraju', 'fide_number': '46616543', 'chess_com_username': 'gukeshdommaraju'},\n",
    "    {'name': 'Nodirbek Abdusattorov', 'fide_number': '14204118', 'chess_com_username': 'chesswarrior7197'},\n",
    "    {'name': 'Alireza Firouzja', 'fide_number': '12573981', 'chess_com_username': 'firouzja2003'},\n",
    "    {'name': 'Ian Nepomniachtchi', 'fide_number': '4168119', 'chess_com_username': 'lachesisq'},\n",
    "    {'name': 'Wei Yi', 'fide_number': '8603405', 'chess_com_username': 'wei-yi'},\n",
    "    {'name': 'Viswanathan Anand', 'fide_number': '5000017', 'chess_com_username': 'thevish'}\n",
    "]\n",
    "\n",
    "# Fetch player data and display the DataFrame\n",
    "df = get_chess_com_player_stats(top_players)\n",
    "print(df)"
   ]
  },
  {
   "cell_type": "code",
   "execution_count": 6,
   "metadata": {},
   "outputs": [
    {
     "name": "stdout",
     "output_type": "stream",
     "text": [
      "https://api.chess.com/pub/player/hikaru/stats\n"
     ]
    }
   ],
   "source": [
    "print(\"https://api.chess.com/pub/player/hikaru/stats\")\n"
   ]
  },
  {
   "cell_type": "markdown",
   "metadata": {},
   "source": [
    "Attempt 1"
   ]
  },
  {
   "cell_type": "code",
   "execution_count": null,
   "metadata": {},
   "outputs": [],
   "source": [
    "top_players = [\n",
    "    {'name': 'Magnus_Carlsen', 'fide_number': '1503014', 'chess_com_username': 'magnuscarlsen'},\n",
    "    {'name': 'Fabiano_Caruana', 'fide_number': '2020009', 'chess_com_username': 'fabianocaruana'},\n",
    "    {'name': 'Hikaru_Nakamura', 'fide_number': '2016192', 'chess_com_username': 'hikaru'},\n",
    "    {'name': 'Arjun_Erigaisi', 'fide_number': '35009192', 'chess_com_username': 'ghandeevam2003'},\n",
    "    {'name': 'Gukesh_Dommaraju', 'fide_number': '46616543', 'chess_com_username': 'gukeshdommaraju'},\n",
    "    {'name': 'Nodirbek_Abdusattorov', 'fide_number': '14204118', 'chess_com_username': 'chesswarrior7197'},\n",
    "    {'name': 'Alireza-Firouzja', 'fide_number': '12573981', 'chess_com_username': 'firouzja2003'},\n",
    "    {'name': 'Ian_Nepomniachtchi', 'fide_number': '4168119', 'chess_com_username': 'lachesisq'},\n",
    "    {'name': 'Yi_Wei', 'fide_number': '8603405', 'chess_com_username': 'wei-yi'},\n",
    "    {'name': 'Viswanathan_Anand', 'fide_number': '5000017', 'chess_com_username': 'thevish'}\n",
    "]"
   ]
  },
  {
   "cell_type": "code",
   "execution_count": 9,
   "metadata": {},
   "outputs": [],
   "source": [
    "import requests\n",
    "import pandas as pd\n",
    "import time  # For adding delay\n",
    "\n",
    "base_url = \"https://api.chess.com/pub/player/{}/stats\"\n",
    "headers = {\n",
    "    \"User-Agent\": \"Python script for educational use\"\n",
    "}\n"
   ]
  },
  {
   "cell_type": "code",
   "execution_count": 10,
   "metadata": {},
   "outputs": [
    {
     "name": "stdout",
     "output_type": "stream",
     "text": [
      "Data fetched successfully for magnuscarlsen.\n",
      "{'chess_rapid': {'last': {'rating': 2906, 'date': 1727802080, 'rd': 44}, 'best': {'rating': 2977, 'date': 1675704852, 'game': 'https://www.chess.com/game/live/121539623527'}, 'record': {'win': 78, 'loss': 22, 'draw': 70}}, 'chess_bullet': {'last': {'rating': 3235, 'date': 1737226798, 'rd': 40}, 'best': {'rating': 3390, 'date': 1679941589, 'game': 'https://www.chess.com/game/live/70204459381'}, 'record': {'win': 1077, 'loss': 365, 'draw': 186}}, 'chess_blitz': {'last': {'rating': 3252, 'date': 1737560363, 'rd': 30}, 'best': {'rating': 3377, 'date': 1704316154, 'game': 'https://www.chess.com/game/live/94327327601'}, 'record': {'win': 3306, 'loss': 715, 'draw': 588}}, 'fide': 2882, 'tactics': {'highest': {'rating': 400, 'date': 1282856720}, 'lowest': {'rating': 400, 'date': 1282856720}}, 'puzzle_rush': {}}\n"
     ]
    }
   ],
   "source": [
    "def fetch_player_stats(username):\n",
    "    try:\n",
    "        url = base_url.format(username)\n",
    "        time.sleep(1)  # Add delay before the request\n",
    "        response = requests.get(url, headers=headers)\n",
    "        if response.status_code == 200:\n",
    "            print(f\"Data fetched successfully for {username}.\")\n",
    "            return response.json()\n",
    "        else:\n",
    "            print(f\"Failed to fetch data for {username}. Status Code: {response.status_code}\")\n",
    "            print(response.text)\n",
    "            return None\n",
    "    except Exception as e:\n",
    "        print(f\"Error fetching data for {username}: {e}\")\n",
    "        return None\n",
    "\n",
    "# Test for one player\n",
    "player_data = fetch_player_stats(\"magnuscarlsen\")\n",
    "print(player_data)\n"
   ]
  }
 ],
 "metadata": {
  "kernelspec": {
   "display_name": ".venv",
   "language": "python",
   "name": "python3"
  },
  "language_info": {
   "codemirror_mode": {
    "name": "ipython",
    "version": 3
   },
   "file_extension": ".py",
   "mimetype": "text/x-python",
   "name": "python",
   "nbconvert_exporter": "python",
   "pygments_lexer": "ipython3",
   "version": "3.10.0"
  }
 },
 "nbformat": 4,
 "nbformat_minor": 2
}
