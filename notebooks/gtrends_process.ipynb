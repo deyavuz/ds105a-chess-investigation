{
 "cells": [
  {
   "cell_type": "code",
   "execution_count": 1,
   "metadata": {},
   "outputs": [],
   "source": [
    "import os\n",
    "import json\n",
    "import requests\n",
    "import pandas as pd\n",
    "\n"
   ]
  },
  {
   "cell_type": "code",
   "execution_count": 13,
   "metadata": {},
   "outputs": [],
   "source": [
    "top_players =[\n",
    "    {'name': 'Magnus_Carlsen', 'fide_number': '1503014', 'chess_com_username': 'magnuscarlsen','country':'NO'},\n",
    "    {'name': 'Fabiano_Caruana', 'fide_number': '2020009', 'chess_com_username': 'fabianocaruana','country':'US'},\n",
    "    {'name': 'Hikaru_Nakamura', 'fide_number': '2016192', 'chess_com_username': 'hikaru','country':'US'},\n",
    "    {'name': 'Arjun_Erigaisi', 'fide_number': '35009192', 'chess_com_username': 'ghandeevam2003','country':'IN'},\n",
    "    {'name': 'Gukesh_Dommaraju', 'fide_number': '46616543', 'chess_com_username': 'gukeshdommaraju','country':'IN'},\n",
    "    {'name': 'Nodirbek_Abdusattorov', 'fide_number': '14204118', 'chess_com_username': 'chesswarrior7197','country':'UZ'},\n",
    "    {'name': 'Alireza_Firouzja', 'fide_number': '12573981', 'chess_com_username': 'firouzja2003','country':'FR'},\n",
    "    {'name': 'Ian_Nepomniachtchi', 'fide_number': '4168119', 'chess_com_username': 'lachesisq','country':'RU'},\n",
    "    {'name': 'Yi_Wei', 'fide_number': '8603405', 'chess_com_username': 'wei-yi','country':'CN'},\n",
    "    {'name': 'Viswanathan_Anand', 'fide_number': '5000017', 'chess_com_username': 'thevish','country':'IN'}\n",
    "]\n",
    "countries =['NO','US','CN','FR','GB','IN','RU','UZ']\n"
   ]
  },
  {
   "cell_type": "markdown",
   "metadata": {},
   "source": [
    "Function to extract required paramters from Gtrends of players"
   ]
  },
  {
   "cell_type": "code",
   "execution_count": 3,
   "metadata": {},
   "outputs": [],
   "source": [
    "def gtrends_players(name,country):\n",
    "    file_path = f'../data/GTrends_Player/{name}_{country}_GTrends_Player.json'\n",
    "    combined_data=[]\n",
    "    with open(file_path, 'r', encoding='utf-8') as filepath:   \n",
    "        data = json.load(filepath)\n",
    "    for time_data in data['timeline_data']:\n",
    "        date= time_data.get(\"date\")\n",
    "        for values in time_data['values']:\n",
    "            combined_data.append({\n",
    "                \"name\":name,\n",
    "                \"country\":country,\n",
    "                \"date\":date,\n",
    "                \"search_rate\":values[\"extracted_value\"]\n",
    "            })\n",
    "    return combined_data"
   ]
  },
  {
   "cell_type": "markdown",
   "metadata": {},
   "source": [
    "Function to extract required parameters from Gtrends of Countries"
   ]
  },
  {
   "cell_type": "code",
   "execution_count": 10,
   "metadata": {},
   "outputs": [],
   "source": [
    "def gtrends_country(country):\n",
    "    file_path = f'../data/GTrends_Country/Chess_{country}_GTrends.json'\n",
    "    combined_data=[]\n",
    "    with open(file_path, 'r', encoding='utf-8') as filepath:   \n",
    "        data = json.load(filepath)\n",
    "    for time_data in data['timeline_data']:\n",
    "        date= time_data.get(\"date\")\n",
    "        for values in time_data['values']:\n",
    "            combined_data.append({\n",
    "                \"country\":country,\n",
    "                \"date\":date,\n",
    "                \"search_rate\":values[\"extracted_value\"]\n",
    "            })\n",
    "    return combined_data"
   ]
  },
  {
   "cell_type": "markdown",
   "metadata": {},
   "source": [
    "Creating pandas dataframe and CSV for players"
   ]
  },
  {
   "cell_type": "code",
   "execution_count": 12,
   "metadata": {},
   "outputs": [],
   "source": [
    "all_player_gtrends =[]\n",
    "for players in top_players:\n",
    "    name = players[\"name\"].replace(\"_\",\" \")\n",
    "    country = players[\"country\"]\n",
    "    all_player_gtrends.extend(gtrends_players(name,country))\n",
    "    \n",
    "final_player_gtrends_df = pd.DataFrame(all_player_gtrends)\n",
    "final_player_gtrends_df.to_csv(\"../data/GTrends_Player/players_gtrends_data.csv\")"
   ]
  },
  {
   "cell_type": "markdown",
   "metadata": {},
   "source": [
    "Creating pandas dataframe and CSV for countries\n"
   ]
  },
  {
   "cell_type": "code",
   "execution_count": 14,
   "metadata": {},
   "outputs": [],
   "source": [
    "all_country_gtrends =[]\n",
    "for country in countries:\n",
    "    all_country_gtrends.extend(gtrends_country(country))\n",
    "final_country_gtrends_df = pd.DataFrame(all_country_gtrends)\n",
    "final_country_gtrends_df.to_csv(\"../data/GTrends_Country/country_gtrends_data.csv\")"
   ]
  }
 ],
 "metadata": {
  "kernelspec": {
   "display_name": ".venv",
   "language": "python",
   "name": "python3"
  },
  "language_info": {
   "codemirror_mode": {
    "name": "ipython",
    "version": 3
   },
   "file_extension": ".py",
   "mimetype": "text/x-python",
   "name": "python",
   "nbconvert_exporter": "python",
   "pygments_lexer": "ipython3",
   "version": "3.13.0"
  }
 },
 "nbformat": 4,
 "nbformat_minor": 2
}
