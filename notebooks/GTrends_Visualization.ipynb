{
 "cells": [
  {
   "cell_type": "markdown",
   "metadata": {},
   "source": [
    "# Google Trends Visualization\n",
    "\n",
    "In this notebook we will be concerned with interpreting the GTrends "
   ]
  },
  {
   "cell_type": "code",
   "execution_count": 4,
   "metadata": {},
   "outputs": [
    {
     "data": {
      "text/html": [
       "\n",
       "            <div id=\"lXu9p3\"></div>\n",
       "            <script type=\"text/javascript\" data-lets-plot-script=\"library\">\n",
       "                if(!window.letsPlotCallQueue) {\n",
       "                    window.letsPlotCallQueue = [];\n",
       "                }; \n",
       "                window.letsPlotCall = function(f) {\n",
       "                    window.letsPlotCallQueue.push(f);\n",
       "                };\n",
       "                (function() {\n",
       "                    var script = document.createElement(\"script\");\n",
       "                    script.type = \"text/javascript\";\n",
       "                    script.src = \"https://cdn.jsdelivr.net/gh/JetBrains/lets-plot@v4.5.1/js-package/distr/lets-plot.min.js\";\n",
       "                    script.onload = function() {\n",
       "                        window.letsPlotCall = function(f) {f();};\n",
       "                        window.letsPlotCallQueue.forEach(function(f) {f();});\n",
       "                        window.letsPlotCallQueue = [];\n",
       "                        \n",
       "                    };\n",
       "                    script.onerror = function(event) {\n",
       "                        window.letsPlotCall = function(f) {};    // noop\n",
       "                        window.letsPlotCallQueue = [];\n",
       "                        var div = document.createElement(\"div\");\n",
       "                        div.style.color = 'darkred';\n",
       "                        div.textContent = 'Error loading Lets-Plot JS';\n",
       "                        document.getElementById(\"lXu9p3\").appendChild(div);\n",
       "                    };\n",
       "                    var e = document.getElementById(\"lXu9p3\");\n",
       "                    e.appendChild(script);\n",
       "                })()\n",
       "            </script>\n",
       "            "
      ]
     },
     "metadata": {},
     "output_type": "display_data"
    }
   ],
   "source": [
    "# Imports\n",
    "\n",
    "import pandas as pd\n",
    "import numpy as np\n",
    "import sqlite3\n",
    "\n",
    "from sqlalchemy import create_engine, text\n",
    "from IPython.display import Image\n",
    "\n",
    "from lets_plot import *\n",
    "LetsPlot.setup_html()\n",
    "\n",
    "from plotnine import ggplot, aes, geom_line, geom_point, geom_vline, geom_text, theme, element_text, labs, theme_minimal, element_rect"
   ]
  },
  {
   "cell_type": "markdown",
   "metadata": {},
   "source": [
    "In this first block we will retrieve the sql database tables containing the Google Trends data for both the country and player data."
   ]
  },
  {
   "cell_type": "code",
   "execution_count": 11,
   "metadata": {},
   "outputs": [
    {
     "name": "stdout",
     "output_type": "stream",
     "text": [
      "      Unnamed: 0  fide_id                 name federation  \\\n",
      "0              0  1503014     Carlsen, Magnus      Norway   \n",
      "1              1  1503014     Carlsen, Magnus      Norway   \n",
      "2              2  1503014     Carlsen, Magnus      Norway   \n",
      "3              3  1503014     Carlsen, Magnus      Norway   \n",
      "4              4  1503014     Carlsen, Magnus      Norway   \n",
      "...          ...      ...                  ...        ...   \n",
      "1779        1779  5000017  Anand, Viswanathan       India   \n",
      "1780        1780  5000017  Anand, Viswanathan       India   \n",
      "1781        1781  5000017  Anand, Viswanathan       India   \n",
      "1782        1782  5000017  Anand, Viswanathan       India   \n",
      "1783        1783  5000017  Anand, Viswanathan       India   \n",
      "\n",
      "      world_rank_active_players      date  standard   rapid   blitz  \n",
      "0                             1  2025-Jan      2831  2819.0  2889.0  \n",
      "1                             1  2024-Dec      2831  2838.0  2890.0  \n",
      "2                             1  2024-Nov      2831  2825.0  2893.0  \n",
      "3                             1  2024-Oct      2831  2834.0  2888.0  \n",
      "4                             1  2024-Sep      2832  2834.0  2888.0  \n",
      "...                         ...       ...       ...     ...     ...  \n",
      "1779                         10  2001-Apr      2794     NaN     NaN  \n",
      "1780                         10  2001-Jan      2790     NaN     NaN  \n",
      "1781                         10  2000-Oct      2774     NaN     NaN  \n",
      "1782                         10  2000-Jul      2762     NaN     NaN  \n",
      "1783                         10  2000-Jan      2769     NaN     NaN  \n",
      "\n",
      "[1784 rows x 9 columns]\n"
     ]
    }
   ],
   "source": [
    "# Database pathway\n",
    "db_name = \"/files/ds105a-2024-project-fork_force/data/chess.db\"\n",
    "\n",
    "# Connect to the SQLite database\n",
    "conn = sqlite3.connect(db_name)\n",
    "\n",
    "# Load table into a DataFrame\n",
    "df_country = pd.read_sql('SELECT * FROM country_gtrends', conn)\n",
    "df_player = pd.read_sql('SELECT * FROM players_gtrends', conn)\n",
    "df_fide = pd.read_sql('SELECT * FROM fide', conn)\n",
    "\n"
   ]
  },
  {
   "cell_type": "code",
   "execution_count": null,
   "metadata": {},
   "outputs": [],
   "source": [
    "def album_trend_graph(artist_name):\n",
    "    df_tracks, df_albums, df_trends = SQL_to_DF(artist_name)\n",
    "    \n",
    "    # Convert date formats\n",
    "    df_trends['date'] = pd.to_datetime(df_trends['date'], format='%b %Y', errors='coerce')\n",
    "    df_albums['release_date'] = pd.to_datetime(df_albums['release_date'], errors='coerce')\n",
    "    \n",
    "    # Drop invalid rows\n",
    "    df_trends = df_trends.dropna(subset=['date', 'trend_value'])\n",
    "    df_albums = df_albums.dropna(subset=['release_date'])\n",
    "    \n",
    "    # Convert trend_value to numeric\n",
    "    df_trends['trend_value'] = pd.to_numeric(df_trends['trend_value'], errors='coerce')\n",
    "    df_albums['name'] = df_albums['name'].fillna('Unknown Album').astype(str)\n",
    "    \n",
    "    # Filter out singles for the text labels\n",
    "    df_albums_filtered = df_albums[df_albums['album_type'] != 'single'].copy()  # Ensure we're working with a copy\n",
    "    \n",
    "    # Get the maximum trend_value for positioning the text labels near the top\n",
    "    max_trend_value = df_trends['trend_value'].max()\n",
    "    \n",
    "    # Create an alternating y-position for text labels to avoid overlap\n",
    "    # Every other label will be staggered by a small amount\n",
    "    df_albums_filtered.loc[:, 'y_position'] = max_trend_value * 0.9 + (np.arange(len(df_albums_filtered)) % 2) * 0.05\n",
    "    \n",
    "    # Takes the artist's file name and replaces \"_\" with \" \"\n",
    "    graph_artist_name = artist_name.replace('_', ' ')\n",
    "    \n",
    "    # Create graph\n",
    "    plot = (\n",
    "        ggplot(df_trends, aes(x='date', y='trend_value')) \n",
    "        + geom_line(size=1, color='black') # Google Trends data\n",
    "        + geom_vline(\n",
    "            data=df_albums, \n",
    "            mapping=aes(xintercept='release_date', color='album_type'), # Marks release dates\n",
    "            linetype='dashed', \n",
    "            size=0.7\n",
    "        ) \n",
    "        + geom_point( # Adds a dot at the intersection of album release dates and x axis\n",
    "            data=df_albums,\n",
    "            mapping=aes(x='release_date', y=0, color='album_type'),\n",
    "            size=2\n",
    "        ) \n",
    "        + geom_text( # Labels each of the album release with the titles\n",
    "            data=df_albums_filtered,  # Only label albums that are not \"single\"\n",
    "            mapping=aes(x='release_date', y='y_position', label='name'),  # Position text based on staggered y values\n",
    "            color='black', \n",
    "            size=8,\n",
    "            angle=45,  # Rotate the text to match the x-axis labels\n",
    "            ha='center'  # Center horizontally\n",
    "        )\n",
    "        + theme_minimal() \n",
    "        + labs( # Labels\n",
    "            title= f\"{graph_artist_name} Trend Analysis with Album Releases\",\n",
    "            subtitle=\"Analyzing trends over time with key album drops\",\n",
    "            x=\"Date\",\n",
    "            y=\"Google Trend Value\",\n",
    "            caption=f\"Source: {artist_name}_data.db\",\n",
    "            color=\"Release Type\"\n",
    "        ) \n",
    "        + theme(\n",
    "            axis_text_x=element_text(rotation=45, hjust=1),  # Ensure x-axis labels are rotated as well\n",
    "            figure_size=(10, 6),\n",
    "            panel_background=element_rect(fill='white'),  # Ensure the panel background is white\n",
    "            plot_background=element_rect(fill='white')  # Make sure the overall plot background is white\n",
    "        )\n",
    "    )\n",
    "    return plot"
   ]
  }
 ],
 "metadata": {
  "kernelspec": {
   "display_name": "base",
   "language": "python",
   "name": "python3"
  },
  "language_info": {
   "codemirror_mode": {
    "name": "ipython",
    "version": 3
   },
   "file_extension": ".py",
   "mimetype": "text/x-python",
   "name": "python",
   "nbconvert_exporter": "python",
   "pygments_lexer": "ipython3",
   "version": "3.11.8"
  }
 },
 "nbformat": 4,
 "nbformat_minor": 2
}
