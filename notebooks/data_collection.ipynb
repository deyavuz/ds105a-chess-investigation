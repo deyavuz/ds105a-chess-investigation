{
 "cells": [
  {
   "cell_type": "code",
   "execution_count": 1,
   "metadata": {},
   "outputs": [],
   "source": [
    "import os\n",
    "import json\n",
    "import requests\n",
    "import pandas as pd\n",
    "\n",
    "from serpapi import GoogleSearch\n",
    "\n",
    "from dotenv import load_dotenv\n",
    "\n",
    "from tqdm.notebook import tqdm\n",
    "tqdm.pandas()"
   ]
  },
  {
   "cell_type": "markdown",
   "metadata": {},
   "source": [
    "## SERPAPI Setup\n",
    "Setting up the SERPAPI API Pull"
   ]
  },
  {
   "cell_type": "code",
   "execution_count": 2,
   "metadata": {},
   "outputs": [],
   "source": [
    "# Pulls key from .env \n",
    "SERPAPI_KEY = os.getenv(\"serpapi_key\")"
   ]
  },
  {
   "cell_type": "code",
   "execution_count": 3,
   "metadata": {},
   "outputs": [],
   "source": [
    "# Fetches Google Trends data since 2004 for a given keyword and country code - saves it to a JSON file.\n",
    "\n",
    "# Not finished - parameters need to be set up to pull time series data in \"data_type\" and country code specification needs to be added\n",
    "# Currently isn't pulling correct information\n",
    "\n",
    "def fetch_google_trends(country_code, keyword, SERPAPI_KEY):    \n",
    "    \n",
    "    # Keeps the file names uniform - changing artist_name from here on\n",
    "    keyword_filename = keyword\n",
    "\n",
    "    # Replace underscores with spaces in the artist's name\n",
    "    keyword = keyword_filename.replace(\"_\", \" \")\n",
    "    \n",
    "    # Parameters for the API call\n",
    "    params = {\n",
    "        \"engine\": \"google_trends\",\n",
    "        \"q\": keyword,\n",
    "        \"data_type\": \"GEO_MAP_0\",\n",
    "        \"date\": \"all\",  # Specify the time range\n",
    "        \"api_key\": SERPAPI_KEY , # Replace with your SerpAPI key\n",
    "        \"region\": \"COUNTRY\",\n",
    "        \"geo\": country_code , \n",
    "    }\n",
    "    \n",
    "    # Fetch data using SerpAPI\n",
    "    search = GoogleSearch(params)\n",
    "    results = search.get_dict()\n",
    "    \n",
    "    # Extract 'interest_over_time' section\n",
    "    interest_over_time = results.get(\"interest_over_time\", {})\n",
    "    \n",
    "    # Define the output file path\n",
    "    output_path = f\"../data/gtrends/{keyword}_{country_code}_Trends.json\"\n",
    "\n",
    "    # Save the data as a JSON file\n",
    "    with open(output_path, \"w\") as file:\n",
    "        json.dump(interest_over_time, file, indent=4)\n",
    "    \n",
    "    return print(f\"Google Trends data successfully saved to {output_path}\")"
   ]
  },
  {
   "cell_type": "code",
   "execution_count": 4,
   "metadata": {},
   "outputs": [],
   "source": [
    "# Example\n",
    "# fetch_google_trends(\"GB\", \"Chess\", SERPAPI_KEY)"
   ]
  },
  {
   "cell_type": "markdown",
   "metadata": {},
   "source": [
    "### FIDE Webscraper Setup\n",
    "Here, we are setting up the FIDE webscraper to get a list of the current top 10 chess players"
   ]
  },
  {
   "cell_type": "code",
   "execution_count": null,
   "metadata": {},
   "outputs": [],
   "source": []
  },
  {
   "cell_type": "markdown",
   "metadata": {},
   "source": [
    "### Obtaining Chess.com Data\n",
    "\n",
    "Finally, we are defining a function to output player data based on the list of top 10 players, obtained through the FIDE webscraper"
   ]
  },
  {
   "cell_type": "code",
   "execution_count": 5,
   "metadata": {},
   "outputs": [
    {
     "name": "stdout",
     "output_type": "stream",
     "text": [
      "*   Trying 104.18.138.67:443...\n",
      "* Connected to api.chess.com (104.18.138.67) port 443 (#0)\n",
      "* ALPN, offering h2\n",
      "* ALPN, offering http/1.1\n",
      "* successfully set certificate verify locations:\n",
      "*  CAfile: /etc/ssl/cert.pem\n",
      "*  CApath: none\n",
      "* (304) (OUT), TLS handshake, Client hello (1):\n",
      "* (304) (IN), TLS handshake, Server hello (2):\n",
      "* (304) (IN), TLS handshake, Unknown (8):\n",
      "* (304) (IN), TLS handshake, Certificate (11):\n",
      "* (304) (IN), TLS handshake, CERT verify (15):\n",
      "* (304) (IN), TLS handshake, Finished (20):\n",
      "* (304) (OUT), TLS handshake, Finished (20):\n",
      "* SSL connection using TLSv1.3 / AEAD-CHACHA20-POLY1305-SHA256\n",
      "* ALPN, server accepted to use h2\n",
      "* Server certificate:\n",
      "*  subject: CN=chess.com\n",
      "*  start date: Dec  3 07:03:24 2024 GMT\n",
      "*  expire date: Mar  3 07:03:23 2025 GMT\n",
      "*  subjectAltName: host \"api.chess.com\" matched cert's \"*.chess.com\"\n",
      "*  issuer: C=US; O=Google Trust Services; CN=WE1\n",
      "*  SSL certificate verify ok.\n",
      "* Using HTTP2, server supports multiplexing\n",
      "* Connection state changed (HTTP/2 confirmed)\n",
      "* Copying HTTP/2 data in stream buffer to connection buffer after upgrade: len=0\n",
      "* Using Stream ID: 1 (easy handle 0x13200ca00)\n",
      "> GET /pub/player/hikaru HTTP/2\n",
      "> Host: api.chess.com\n",
      "> user-agent: curl/7.79.1\n",
      "> accept: */*\n",
      "> \n",
      "< HTTP/2 200 \n",
      "< date: Sat, 14 Dec 2024 11:58:06 GMT\n",
      "< content-type: application/json; charset=utf-8\n",
      "< vary: Accept-Encoding\n",
      "< etag: W/\"30933879d00191a99f641d62ea27aa86\"\n",
      "< access-control-allow-origin: *\n",
      "< link: <https://api.chess.com/context/Player.jsonld>; rel=\"http://www.w3.org/ns/json-ld#context\"; type=\"application/ld+json\"\n",
      "< last-modified: Saturday, 14-Dec-2024 11:41:36 GMT+0000\n",
      "< x-chesscom-matched: None\n",
      "< cache-control: public, max-age=5\n",
      "< expires: Sat, 14 Dec 2024 11:58:11\n",
      "< x-chesscom-meta: lean=cached\n",
      "< x-chesscom-request-id-lb: a3167923da509ecc35f3add9a0d0fc7e\n",
      "< x-chesscom-request-id-cdn: 8f1e0527cca4f654-IAD\n",
      "< x-chesscom-servedby: 96\n",
      "< strict-transport-security: max-age=63072000; includeSubDomains; preload\n",
      "< cf-cache-status: EXPIRED\n",
      "< set-cookie: __cf_bm=3.I0FEpCS0Ai_zwX6YErVkjbjos0mPx.I9nUW8vZTgY-1734177486-1.0.1.1-B9hOiY94tvj8gx9UB4aDCc1Ilabqha9Zg4MTK7evJXeNvAIgfl4EzBBQhwTpVYXpADYmvKcUsPSUg9Mz_0rjDosS7e2lwHqJRnV7ugnw_lc; path=/; expires=Sat, 14-Dec-24 12:28:06 GMT; domain=.chess.com; HttpOnly; Secure; SameSite=None\n",
      "< report-to: {\"endpoints\":[{\"url\":\"https:\\/\\/a.nel.cloudflare.com\\/report\\/v4?s=aJ8xF18XEgfPsQDEFWdaJPfwe2oIbCGlVa7aWKbRSTWX%2Bkw6CYZisrdiUum2JTJCnJqJIoN0ZjGO3uo8efSrAuKam99C95Ug7oQpM2DOoR6YFtc3aphlW69uXqNCLNU%3D\"}],\"group\":\"cf-nel\",\"max_age\":604800}\n",
      "< nel: {\"success_fraction\":1,\"report_to\":\"cf-nel\",\"max_age\":604800}\n",
      "< server: cloudflare\n",
      "< cf-ray: 8f1e0527cca4f654-LHR\n",
      "< alt-svc: h3=\":443\"; ma=86400\n",
      "< \n",
      "* Connection #0 to host api.chess.com left intact\n",
      "{\"avatar\":\"https://images.chesscomfiles.com/uploads/v1/user/15448422.88c010c1.200x200o.3c5619f5441e.png\",\"player_id\":15448422,\"@id\":\"https://api.chess.com/pub/player/hikaru\",\"url\":\"https://www.chess.com/member/Hikaru\",\"name\":\"Hikaru Nakamura\",\"username\":\"hikaru\",\"title\":\"GM\",\"followers\":1230107,\"country\":\"https://api.chess.com/pub/country/US\",\"location\":\"Florida\",\"last_online\":1733992795,\"joined\":1389043258,\"status\":\"premium\",\"is_streamer\":true,\"twitch_url\":\"https://twitch.tv/gmhikaru\",\"verified\":false,\"league\":\"Legend\",\"streaming_platforms\":[{\"type\":\"twitch\",\"channel_url\":\"https://twitch.tv/gmhikaru\"}]}"
     ]
    }
   ],
   "source": [
    "# Testing cURL for the player endpoint\n",
    "! curl -v https://api.chess.com/pub/player/hikaru"
   ]
  }
 ],
 "metadata": {
  "kernelspec": {
   "display_name": ".venv",
   "language": "python",
   "name": "python3"
  },
  "language_info": {
   "codemirror_mode": {
    "name": "ipython",
    "version": 3
   },
   "file_extension": ".py",
   "mimetype": "text/x-python",
   "name": "python",
   "nbconvert_exporter": "python",
   "pygments_lexer": "ipython3",
   "version": "3.10.0"
  }
 },
 "nbformat": 4,
 "nbformat_minor": 2
}
