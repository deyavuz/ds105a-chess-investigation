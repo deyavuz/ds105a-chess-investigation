{
 "cells": [
  {
   "cell_type": "code",
<<<<<<< HEAD
   "execution_count": 2,
=======
   "execution_count": 6,
>>>>>>> gtrends
   "metadata": {},
   "outputs": [],
   "source": [
    "import os\n",
    "import json\n",
    "import requests\n",
    "import pandas as pd\n",
    "\n",
    "from serpapi import GoogleSearch\n",
    "\n",
    "from dotenv import load_dotenv\n",
    "\n",
    "from tqdm.notebook import tqdm\n",
    "tqdm.pandas()"
   ]
  },
  {
   "cell_type": "markdown",
   "metadata": {},
   "source": [
    "## Top Players ##\n",
    "For the purposes of organization and simplicity, we create a dictionary which holds the top ten best chess players. Here is the structure and reasoning of the dictionary.\n",
    "\n",
    "- 'name': Stores the players name in format convenient to naming files. This helps create consistency among the json files in /data\n",
    "- 'fide_number': Holds the player's FIDE Number. This is necessary in order to utilize the FIDE Webscraper API \n",
    "- 'chess_come_username': Holds the player's Chess.com username. This is necessary in order to utilize the Chess.com published api\n",
    "\n",
    "When these rankings ultimately change, this dictionary will need to be updated.\n"
   ]
  },
  {
   "cell_type": "code",
<<<<<<< HEAD
   "execution_count": 5,
=======
   "execution_count": 7,
>>>>>>> gtrends
   "metadata": {},
   "outputs": [],
   "source": [
    "# Top Chess Players in the world as of December 16, 2024\n",
    "# Ordering within the dictionary does not matter\n",
    "top_players =[\n",
<<<<<<< HEAD
    "    {'name': 'Magnus_Carlsen', 'fide_number': '1503014', 'chess_com_username': 'magnuscarlsen'},\n",
    "    {'name': 'Fabiano_Caruana', 'fide_number': '2020009', 'chess_com_username': 'fabianocaruana'},\n",
    "    {'name': 'Hikaru_Nakamura', 'fide_number': '2016192', 'chess_com_username': 'hikaru'},\n",
    "    {'name': 'Arjun_Erigaisi', 'fide_number': '35009192', 'chess_com_username': 'ghandeevam2003'},\n",
    "    {'name': 'Gukesh_Dommaraju', 'fide_number': '46616543', 'chess_com_username': 'gukeshdommaraju'},\n",
    "    {'name': 'Nodirbek_Abdusattorov', 'fide_number': '14204118', 'chess_com_username': 'chesswarrior7197'},\n",
    "    {'name': 'Alireza_Firouzja', 'fide_number': '12573981', 'chess_com_username': 'firouzja2003'},\n",
    "    {'name': 'Ian_Nepomniachtchi', 'fide_number': '4168119', 'chess_com_username': 'lachesisq'},\n",
    "    {'name': 'Yi_Wei', 'fide_number': '8603405', 'chess_com_username': 'wei-yi'},\n",
    "    {'name': 'Viswanathan_Anand', 'fide_number': '5000017', 'chess_com_username': 'thevish'}\n",
    "]"
=======
    "    {'name': 'Magnus_Carlsen', 'fide_number': '1503014', 'chess_com_username': 'magnuscarlsen','country':'NO'},\n",
    "    {'name': 'Fabiano_Caruana', 'fide_number': '2020009', 'chess_com_username': 'fabianocaruana','country':'US'},\n",
    "    {'name': 'Hikaru_Nakamura', 'fide_number': '2016192', 'chess_com_username': 'hikaru','country':'US'},\n",
    "    {'name': 'Arjun_Erigaisi', 'fide_number': '35009192', 'chess_com_username': 'ghandeevam2003','country':'IN'},\n",
    "    {'name': 'Gukesh_Dommaraju', 'fide_number': '46616543', 'chess_com_username': 'gukeshdommaraju','country':'IN'},\n",
    "    {'name': 'Nodirbek_Abdusattorov', 'fide_number': '14204118', 'chess_com_username': 'chesswarrior7197','country':'UZ'},\n",
    "    {'name': 'Alireza-Firouzja', 'fide_number': '12573981', 'chess_com_username': 'firouzja2003','country':'FR'},\n",
    "    {'name': 'Ian_Nepomniachtchi', 'fide_number': '4168119', 'chess_com_username': 'lachesisq','country':'RU'},\n",
    "    {'name': 'Yi_Wei', 'fide_number': '8603405', 'chess_com_username': 'wei-yi','country':'CN'},\n",
    "    {'name': 'Viswanathan_Anand', 'fide_number': '5000017', 'chess_com_username': 'thevish','country':'IN'}\n",
    "]\n"
>>>>>>> gtrends
   ]
  },
  {
   "cell_type": "markdown",
   "metadata": {},
   "source": [
    "## SERPAPI Setup / Google Trends \n",
    "\n",
    "This API pulls Google Trends data for a provided keyword search and country (via country code). It will be our proxy for understanding the popularity/social effect of the given chess players inside their home countries.\n",
    "\n",
    "This API requires a user to sign up in order to be granted authentication. \n",
    "\n",
    "Set up can be found in the following URL: https://serpapi.com/\n",
    "\n",
    "Once you have been given SERPAPI credentials, places them inside your .env"
   ]
  },
  {
   "cell_type": "code",
<<<<<<< HEAD
   "execution_count": 4,
=======
   "execution_count": 8,
>>>>>>> gtrends
   "metadata": {},
   "outputs": [],
   "source": [
    "# Pulls key from .env \n",
    "SERPAPI_KEY = os.getenv(\"serpapi_key\")"
   ]
  },
  {
   "cell_type": "markdown",
   "metadata": {},
   "source": [
    "The following function is very similar to how Google Trends works. It receives a country code, a desired keyword to search, a destination name (which corresponds to a folder), and the SERPAPI Key which was imported in the previous step.\n",
    "\n",
    "It returns the timeseries data for the popularity of the given keyword inside the specified country in a json file."
   ]
  },
  {
   "cell_type": "code",
   "execution_count": 9,
   "metadata": {},
   "outputs": [],
   "source": [
    "# Fetches Google Trends data since 2004 for a given keyword and country code - saves it to a JSON file.\n",
<<<<<<< HEAD
    "def fetch_google_trends(country_code, keyword, SERPAPI_KEY):    \n",
=======
    "def fetch_google_trends(country_code, keyword, destination, SERPAPI_KEY):    \n",
    "    # destination is used to craft the file name and where the file is saved\n",
    "\n",
    "    # Keeps the file names uniform - changing artist_name from here on\n",
    "    keyword_filename = keyword\n",
>>>>>>> gtrends
    "\n",
    "    # Creates a new variable to hold our keyword search with spaces replaced by _\n",
    "    # Necessary since our database doesn't want spaces but our api call does\n",
    "    keyword_filename = keyword\n",
    "    keyword = keyword_filename.replace(\"_\", \" \")\n",
    "    \n",
    "    # Parameters for the API call\n",
    "    params = {\n",
    "        \"engine\": \"google_trends\",\n",
    "        \"q\": keyword,\n",
    "        \"data_type\": \"TIMESERIES\",\n",
    "        \"date\": \"all\",  # Specify the time range\n",
    "        \"api_key\": SERPAPI_KEY , # Replace with your SerpAPI key\n",
    "        \"geo\": country_code , \n",
    "    }\n",
    "    \n",
    "    # Fetch data using SerpAPI\n",
    "    search = GoogleSearch(params)\n",
    "    \n",
    "    # Moves the data from search into a python dictionary \n",
    "    results = search.get_dict()\n",
    "    \n",
    "    # Extracts only 'interest_over_time' section\n",
    "    interest_over_time = results.get(\"interest_over_time\", {})\n",
    "    \n",
<<<<<<< HEAD
    "    # This section focusses on mooving the data into an organized file\n",
    "\n",
    "    # Define the output file path and its name\n",
    "    output_path = f\"../data/GTrends/{keyword}_{country_code}_GTrends.json\"\n",
=======
    "    # Define the output file path\n",
    "    output_path = f\"../data/{destination}/{keyword}_{country_code}_{destination}.json\"\n",
>>>>>>> gtrends
    "\n",
    "    # Save the data as a JSON file\n",
    "    with open(output_path, \"w\") as file:\n",
    "        json.dump(interest_over_time, file, indent=4)\n",
    "    \n",
    "    return print(f\"Google Trends data successfully saved to {output_path}\")"
   ]
  },
  {
   "cell_type": "markdown",
   "metadata": {},
   "source": [
    "The Loop below will be used to collect the search popularity of each player inside their home country"
   ]
  },
  {
   "cell_type": "code",
   "execution_count": 10,
   "metadata": {},
   "outputs": [
    {
     "name": "stdout",
     "output_type": "stream",
     "text": [
      "Google Trends data successfully saved to ../data/GTrends_Player/Magnus Carlsen_NO_GTrends_Player.json\n",
      "Google Trends data successfully saved to ../data/GTrends_Player/Fabiano Caruana_US_GTrends_Player.json\n",
      "Google Trends data successfully saved to ../data/GTrends_Player/Hikaru Nakamura_US_GTrends_Player.json\n",
      "Google Trends data successfully saved to ../data/GTrends_Player/Arjun Erigaisi_IN_GTrends_Player.json\n",
      "Google Trends data successfully saved to ../data/GTrends_Player/Gukesh Dommaraju_IN_GTrends_Player.json\n",
      "Google Trends data successfully saved to ../data/GTrends_Player/Nodirbek Abdusattorov_UZ_GTrends_Player.json\n",
      "Google Trends data successfully saved to ../data/GTrends_Player/Alireza-Firouzja_FR_GTrends_Player.json\n",
      "Google Trends data successfully saved to ../data/GTrends_Player/Ian Nepomniachtchi_RU_GTrends_Player.json\n",
      "Google Trends data successfully saved to ../data/GTrends_Player/Yi Wei_CN_GTrends_Player.json\n",
      "Google Trends data successfully saved to ../data/GTrends_Player/Viswanathan Anand_IN_GTrends_Player.json\n"
     ]
    }
   ],
   "source": [
    "# Retrieves the player Google Trends data (GTrends_Player)\n",
    "destination = \"GTrends_Player\"\n",
    "\n",
    "# Remove the hashtag below to run the loop\n",
    "# for player in top_players:\n",
    "    country_code = player['country']\n",
    "    keyword = player['name']\n",
    "    \n",
    "    # Call the fetch_google_trends function\n",
    "    fetch_google_trends(country_code, keyword, destination, SERPAPI_KEY)"
   ]
  },
  {
   "cell_type": "markdown",
   "metadata": {},
   "source": [
    "The Loop below will be used to collect the search popularity of the word chess inside each of the chess players countries. \n",
    "\n",
    "Note that we have created a list to hold the country codes instead of using the dictionary we used in the previous loop in order to avoid submitting duplicate country codes and incurring additional api calls"
   ]
  },
  {
   "cell_type": "code",
   "execution_count": null,
   "metadata": {},
   "outputs": [],
   "source": [
    "player_countries = [\n",
    "    \"FR\", # France - Alireza\n",
    "    \"IN\", # India - Arjun, Gukesh, Viswanathan\n",
    "    \"US\", # United States - Fabiano, Hikaru\n",
    "    \"RU\", # Russia - Ian\n",
    "    \"NO\", # Norway - Magnus\n",
    "    \"UZ\", # Uzbekistan - Nodirbek\n",
    "    \"CN\", # China - Yi\n",
    "]\n",
    "\n",
<<<<<<< HEAD
    "The following loop will utilize the player_countries list and the fetch_google_trends() function to iterate through all players"
   ]
  },
  {
   "cell_type": "code",
   "execution_count": 64,
   "metadata": {},
   "outputs": [
    {
     "name": "stdout",
     "output_type": "stream",
     "text": [
      "Retrieving Google Trends data for country FR\n",
      "Google Trends data successfully saved to ../data/GTrends/Chess_FR_GTrends.json\n",
      "Retrieving Google Trends data for country IN\n",
      "Google Trends data successfully saved to ../data/GTrends/Chess_IN_GTrends.json\n",
      "Retrieving Google Trends data for country US\n",
      "Google Trends data successfully saved to ../data/GTrends/Chess_US_GTrends.json\n",
      "Retrieving Google Trends data for country RU\n",
      "Google Trends data successfully saved to ../data/GTrends/Chess_RU_GTrends.json\n",
      "Retrieving Google Trends data for country NO\n",
      "Google Trends data successfully saved to ../data/GTrends/Chess_NO_GTrends.json\n",
      "Retrieving Google Trends data for country UZ\n",
      "Google Trends data successfully saved to ../data/GTrends/Chess_UZ_GTrends.json\n",
      "Retrieving Google Trends data for country CN\n",
      "Google Trends data successfully saved to ../data/GTrends/Chess_CN_GTrends.json\n",
      "All Google Trends data has been processed.\n"
     ]
    }
   ],
   "source": [
    "for country in player_countries:\n",
    "    fetch_google_trends(country, \"Chess\", SERPAPI_KEY)\n",
    "print(\"All Google Trends data has been processed.\")"
=======
    "# Retrieves the Country Google Trends data (GTrends_Country\n",
    "destination = \"GTrends_Country\"\n",
    "\n",
    "# Remove the hashtag below to run the loop\n",
    "# for countries in player_countries:\n",
    "    keyword = \"Chess\"\n",
    "    country_code = countries\n",
    "    \n",
    "    # Call the fetch_google_trends function\n",
    "    fetch_google_trends(country_code, keyword, destination, SERPAPI_KEY)"
>>>>>>> gtrends
   ]
  },
  {
   "cell_type": "markdown",
   "metadata": {},
   "source": [
    "We have now succesfully retrieved all of our Google Trends data by player country and stored it inside ../data/GTrends/"
   ]
  },
  {
   "cell_type": "markdown",
   "metadata": {},
   "source": [
    "## FIDE Webscraper Setup\n",
    "Here, we are setting up the FIDE webscraper to get a list of the current top 10 chess players FIDE information.\n",
    "\n",
    "Follow the install instructions on the project README.md in order to set up the correct environment.\n",
    "\n",
    "The function below receives a fide_number and returns a json file containing FIDE information and historical ELO progression."
   ]
  },
  {
   "cell_type": "code",
   "execution_count": 56,
   "metadata": {},
   "outputs": [],
   "source": [
    "# Takes a player's FIDE number and returns their information and ELO history\n",
    "def fide_data(fide_number):\n",
    "    \n",
    "    # Find the player's name based on their FIDE number\n",
    "    player = next((p for p in top_players if p[\"fide_number\"] == fide_number), None)\n",
    "\n",
    "    # Error if FIDE number not found\n",
    "    if not player:\n",
    "        raise ValueError(f\"Player with FIDE number {fide_number} not found.\")\n",
    "\n",
    "    # Replace spaces with underscores for the file name\n",
    "    player_name = player[\"name\"].replace(\" \", \"_\") \n",
    "\n",
    "    # Build the API URL\n",
    "    url = f\"http://localhost:3000/player/{fide_number}/info?include_history=true\"\n",
    "\n",
    "    # Make a GET request\n",
    "    response = requests.get(url)\n",
    "\n",
    "    # Convert the HTTP response's JSON content into a Python object\n",
    "    data = response.json()\n",
    "\n",
    "    # Create the name and destination of the JSON file\n",
    "    output_path = f\"../data/Fide/{player_name}_fide.json\"\n",
    "\n",
    "    # Save the data as a JSON file\n",
    "    with open(output_path, \"w\") as file:\n",
    "        json.dump(data, file, indent=4)\n",
    "\n",
    "    print(f\"FIDE data successfully saved to {output_path}\")"
   ]
  },
  {
   "cell_type": "markdown",
   "metadata": {},
   "source": [
    "The loop below utilizes the function we created above and the top_players() dictionary to iterate through the top ten players. "
   ]
  },
  {
   "cell_type": "code",
   "execution_count": 60,
   "metadata": {},
   "outputs": [
    {
     "name": "stdout",
     "output_type": "stream",
     "text": [
      "Processing Chess.com data for Magnus_Carlsen (Username: 1503014)...\n",
      "FIDE data successfully saved to ../data/Fide/Magnus_Carlsen_fide.json\n",
      "Processing Chess.com data for Fabiano_Caruana (Username: 2020009)...\n",
      "FIDE data successfully saved to ../data/Fide/Fabiano_Caruana_fide.json\n",
      "Processing Chess.com data for Hikaru_Nakamura (Username: 2016192)...\n",
      "FIDE data successfully saved to ../data/Fide/Hikaru_Nakamura_fide.json\n",
      "Processing Chess.com data for Arjun_Erigaisi (Username: 35009192)...\n",
      "FIDE data successfully saved to ../data/Fide/Arjun_Erigaisi_fide.json\n",
      "Processing Chess.com data for Gukesh_Dommaraju (Username: 46616543)...\n",
      "FIDE data successfully saved to ../data/Fide/Gukesh_Dommaraju_fide.json\n",
      "Processing Chess.com data for Nodirbek_Abdusattorov (Username: 14204118)...\n",
      "FIDE data successfully saved to ../data/Fide/Nodirbek_Abdusattorov_fide.json\n",
      "Processing Chess.com data for Alireza-Firouzja (Username: 12573981)...\n",
      "FIDE data successfully saved to ../data/Fide/Alireza-Firouzja_fide.json\n",
      "Processing Chess.com data for Ian_Nepomniachtchi (Username: 4168119)...\n",
      "FIDE data successfully saved to ../data/Fide/Ian_Nepomniachtchi_fide.json\n",
      "Processing Chess.com data for Yi_Wei (Username: 8603405)...\n",
      "FIDE data successfully saved to ../data/Fide/Yi_Wei_fide.json\n",
      "Processing Chess.com data for Viswanathan_Anand (Username: 5000017)...\n",
      "FIDE data successfully saved to ../data/Fide/Viswanathan_Anand_fide.json\n",
      "All Chess.com data has been processed.\n"
     ]
    }
   ],
   "source": [
    "for player in top_players:\n",
    "    username = player[\"fide_number\"]\n",
    "    fide_data(username)\n",
    "\n",
    "print(\"All Chess.com data has been processed.\")"
   ]
  },
  {
   "cell_type": "markdown",
   "metadata": {},
   "source": [
    "We now have historical FIDE data for our top players located inside ../data/Fide/"
   ]
  },
  {
   "cell_type": "markdown",
   "metadata": {},
   "source": [
    "##  Chess.com API Set Up\n",
    "\n",
    "In this section we will use the Chess.com Published Data API to return the top players Chess.com stats.\n",
    "\n",
    "The function below receives a player's Chess.com username and outputs their publicly available Chess.com stats"
   ]
  },
  {
   "cell_type": "code",
   "execution_count": 58,
   "metadata": {},
   "outputs": [],
   "source": [
    "# Takes a player's Chess.com username and returns a player's game stats\n",
    "def chess_com_data(username):\n",
    "    \n",
    "    # Look up the player's name in the top_players dictionary\n",
    "    player = next((p for p in top_players if p[\"chess_com_username\"] == username), None)\n",
    "\n",
    "    # Returns an error if name is not found\n",
    "    if not player:\n",
    "        print(f\"Error: Player with username '{username}' not found in top_players.\")\n",
    "        return\n",
    "\n",
    "    # Get the player's name\n",
    "    player_name = player[\"name\"].replace(\" \", \"_\")\n",
    "\n",
    "    # Builds URL for desired player's game stats\n",
    "    url = f\"https://api.chess.com/pub/player/{username}/stats\"\n",
    "\n",
    "    # Define headers\n",
    "    headers = {\n",
    "        \"User-Agent\": \"Mozilla/5.0 (Windows NT 10.0; Win64; x64) AppleWebKit/537.36 (KHTML, like Gecko) Chrome/91.0.4472.124 Safari/537.36\"\n",
    "    }\n",
    "\n",
    "    # Make a GET request with headers\n",
    "    response = requests.get(url, headers=headers)\n",
    "\n",
    "    # Check for HTTP errors\n",
    "    if response.status_code != 200:\n",
    "        print(f\"Error: Received status code {response.status_code} for user {username}\")\n",
    "        return\n",
    "\n",
    "    # Ensure the response contains valid JSON \n",
    "    if not response.text:\n",
    "        print(f\"Error: Empty response for user {username}\")\n",
    "        return\n",
    "\n",
    "    try:\n",
    "        # Parse the JSON content\n",
    "        data = response.json()\n",
    "    except json.JSONDecodeError:\n",
    "        print(f\"Error: Failed to decode JSON response for user {username}\")\n",
    "        return\n",
    "\n",
    "    # Creates the name and destination of the JSON file\n",
    "    output_path = f\"../data/Chess_com/{player_name}_stats.json\"\n",
    "\n",
    "    # Save the data as a JSON file\n",
    "    with open(output_path, \"w\") as file:\n",
    "        json.dump(data, file, indent=4)\n",
    "\n",
    "    print(f\"Chess.com stats successfully saved to {output_path}\")"
   ]
  },
  {
   "cell_type": "markdown",
   "metadata": {},
   "source": [
    "Similar to the previous loop, this loop utilizes the function we created above and the top_players() dictionary to iterate through the top ten players. "
   ]
  },
  {
   "cell_type": "code",
   "execution_count": 59,
   "metadata": {},
   "outputs": [
    {
     "name": "stdout",
     "output_type": "stream",
     "text": [
      "Processing Chess.com data for Magnus_Carlsen (Username: magnuscarlsen)...\n",
      "Chess.com stats successfully saved to ../data/Chess_com/Magnus_Carlsen_stats.json\n",
      "Processing Chess.com data for Fabiano_Caruana (Username: fabianocaruana)...\n",
      "Chess.com stats successfully saved to ../data/Chess_com/Fabiano_Caruana_stats.json\n",
      "Processing Chess.com data for Hikaru_Nakamura (Username: hikaru)...\n",
      "Chess.com stats successfully saved to ../data/Chess_com/Hikaru_Nakamura_stats.json\n",
      "Processing Chess.com data for Arjun_Erigaisi (Username: ghandeevam2003)...\n",
      "Chess.com stats successfully saved to ../data/Chess_com/Arjun_Erigaisi_stats.json\n",
      "Processing Chess.com data for Gukesh_Dommaraju (Username: gukeshdommaraju)...\n",
      "Chess.com stats successfully saved to ../data/Chess_com/Gukesh_Dommaraju_stats.json\n",
      "Processing Chess.com data for Nodirbek_Abdusattorov (Username: chesswarrior7197)...\n",
      "Chess.com stats successfully saved to ../data/Chess_com/Nodirbek_Abdusattorov_stats.json\n",
      "Processing Chess.com data for Alireza-Firouzja (Username: firouzja2003)...\n",
      "Chess.com stats successfully saved to ../data/Chess_com/Alireza-Firouzja_stats.json\n",
      "Processing Chess.com data for Ian_Nepomniachtchi (Username: lachesisq)...\n",
      "Chess.com stats successfully saved to ../data/Chess_com/Ian_Nepomniachtchi_stats.json\n",
      "Processing Chess.com data for Yi_Wei (Username: wei-yi)...\n",
      "Chess.com stats successfully saved to ../data/Chess_com/Yi_Wei_stats.json\n",
      "Processing Chess.com data for Viswanathan_Anand (Username: thevish)...\n",
      "Chess.com stats successfully saved to ../data/Chess_com/Viswanathan_Anand_stats.json\n",
      "All Chess.com data has been processed.\n"
     ]
    }
   ],
   "source": [
    "\n",
    "for player in top_players:\n",
    "    username = player[\"chess_com_username\"]\n",
    "    chess_com_data(username)\n",
    "\n",
    "print(\"All Chess.com data has been processed.\")\n"
   ]
  },
  {
   "cell_type": "markdown",
   "metadata": {},
   "source": [
    "We have now retrieved all of the Chess.com data and stored it inside ../data/Chess_com/"
   ]
  }
 ],
 "metadata": {
  "kernelspec": {
   "display_name": ".venv",
   "language": "python",
   "name": "python3"
  },
  "language_info": {
   "codemirror_mode": {
    "name": "ipython",
    "version": 3
   },
   "file_extension": ".py",
   "mimetype": "text/x-python",
   "name": "python",
   "nbconvert_exporter": "python",
   "pygments_lexer": "ipython3",
   "version": "3.11.8"
  }
 },
 "nbformat": 4,
 "nbformat_minor": 2
}
