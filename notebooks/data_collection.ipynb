{
 "cells": [
  {
   "cell_type": "code",
   "execution_count": 5,
   "metadata": {},
   "outputs": [
    {
     "ename": "ModuleNotFoundError",
     "evalue": "No module named 'serpapi'",
     "output_type": "error",
     "traceback": [
      "\u001b[0;31m---------------------------------------------------------------------------\u001b[0m",
      "\u001b[0;31mModuleNotFoundError\u001b[0m                       Traceback (most recent call last)",
      "Cell \u001b[0;32mIn[5], line 6\u001b[0m\n\u001b[1;32m      3\u001b[0m \u001b[38;5;28;01mimport\u001b[39;00m \u001b[38;5;21;01mrequests\u001b[39;00m\n\u001b[1;32m      4\u001b[0m \u001b[38;5;28;01mimport\u001b[39;00m \u001b[38;5;21;01mpandas\u001b[39;00m \u001b[38;5;28;01mas\u001b[39;00m \u001b[38;5;21;01mpd\u001b[39;00m\n\u001b[0;32m----> 6\u001b[0m \u001b[38;5;28;01mfrom\u001b[39;00m \u001b[38;5;21;01mserpapi\u001b[39;00m \u001b[38;5;28;01mimport\u001b[39;00m GoogleSearch\n\u001b[1;32m      8\u001b[0m \u001b[38;5;28;01mfrom\u001b[39;00m \u001b[38;5;21;01mdotenv\u001b[39;00m \u001b[38;5;28;01mimport\u001b[39;00m load_dotenv\n\u001b[1;32m     10\u001b[0m \u001b[38;5;28;01mfrom\u001b[39;00m \u001b[38;5;21;01mtqdm\u001b[39;00m\u001b[38;5;21;01m.\u001b[39;00m\u001b[38;5;21;01mnotebook\u001b[39;00m \u001b[38;5;28;01mimport\u001b[39;00m tqdm\n",
      "\u001b[0;31mModuleNotFoundError\u001b[0m: No module named 'serpapi'"
     ]
    }
   ],
   "source": [
    "import os\n",
    "import json\n",
    "import requests\n",
    "import pandas as pd\n",
    "\n",
    "from serpapi import GoogleSearch\n",
    "\n",
    "from dotenv import load_dotenv\n",
    "\n",
    "from tqdm.notebook import tqdm\n",
    "tqdm.pandas()"
   ]
  },
  {
   "cell_type": "markdown",
   "metadata": {},
   "source": [
    "## Top Players ##\n",
    "For the purposes of organization and simplicity, we create a dictionary which holds the top ten best chess players. Here is the structure and reasoning of the dictionary.\n",
    "\n",
    "- 'name': Stores the players name in format convenient to naming files. This helps create consistency among the json files in /data\n",
    "- 'fide_number': Holds the player's FIDE Number. This is necessary in order to utilize the FIDE Webscraper API \n",
    "- 'chess_come_username': Holds the player's Chess.com username. This is necessary in order to utilize the Chess.com published api\n",
    "\n",
    "When these rankings ultimately change, this dictionary will need to be updated.\n"
   ]
  },
  {
   "cell_type": "code",
   "execution_count": 53,
   "metadata": {},
   "outputs": [],
   "source": [
    "# Top Chess Players in the world as of December 16, 2024\n",
    "# Ordering within the dictionary does not matter\n",
    "top_players =[\n",
    "    {'name': 'Magnus_Carlsen', 'fide_number': '1503014', 'chess_com_username': 'magnuscarlsen','country':'NO'},\n",
    "    {'name': 'Fabiano_Caruana', 'fide_number': '2020009', 'chess_com_username': 'fabianocaruana','country':'US'},\n",
    "    {'name': 'Hikaru_Nakamura', 'fide_number': '2016192', 'chess_com_username': 'hikaru','country':'US'},\n",
    "    {'name': 'Arjun_Erigaisi', 'fide_number': '35009192', 'chess_com_username': 'ghandeevam2003','country':'IN'},\n",
    "    {'name': 'Gukesh_Dommaraju', 'fide_number': '46616543', 'chess_com_username': 'gukeshdommaraju','country':'IN'},\n",
    "    {'name': 'Nodirbek_Abdusattorov', 'fide_number': '14204118', 'chess_com_username': 'chesswarrior7197','country':'UZ'},\n",
    "    {'name': 'Alireza-Firouzja', 'fide_number': '12573981', 'chess_com_username': 'firouzja2003','country':'FR'},\n",
    "    {'name': 'Ian_Nepomniachtchi', 'fide_number': '4168119', 'chess_com_username': 'lachesisq','country':'RU'},\n",
    "    {'name': 'Yi_Wei', 'fide_number': '8603405', 'chess_com_username': 'wei-yi','country':'CN'},\n",
    "    {'name': 'Viswanathan_Anand', 'fide_number': '5000017', 'chess_com_username': 'thevish'.'country':'IN'}\n",
    "]\n"
   ]
  },
  {
   "cell_type": "markdown",
   "metadata": {},
   "source": [
    "## SERPAPI Setup\n",
    "\n",
    "This API pulls Google Trends data for a provided keyword search and country (via code). It will be our proxy for understanding the popularity/social effect of the given chess players inside their home countries.\n",
    "\n",
    "This API requires a user to sign up in order to be granted authentication. \n",
    "\n",
    "Set up can be found in the following URL: https://serpapi.com/\n",
    "\n",
    "Once you have been given SERPAPI credentials, places them inside your .env"
   ]
  },
  {
   "cell_type": "code",
   "execution_count": 9,
   "metadata": {},
   "outputs": [],
   "source": [
    "# Pulls key from .env \n",
    "SERPAPI_KEY = os.getenv(\"serpapi_key\")"
   ]
  },
  {
   "cell_type": "markdown",
   "metadata": {},
   "source": [
    "The following function is very similar to how Google Trends works.\n",
    "\n",
    "It receives a country code, a desired keyword to search, and the SERPAPI Key which was imported in the previous step.\n",
    "\n",
    "It returns the timeseries data for the popularity of the given keyword inside the specified country in a json file."
   ]
  },
  {
   "cell_type": "code",
   "execution_count": 10,
   "metadata": {},
   "outputs": [],
   "source": [
    "# Fetches Google Trends data since 2004 for a given keyword and country code - saves it to a JSON file.\n",
    "def fetch_google_trends(country_code, keyword, SERPAPI_KEY):    \n",
    "    \n",
    "    # Keeps the file names uniform - changing artist_name from here on\n",
    "    keyword_filename = keyword\n",
    "\n",
    "    # Replace underscores with spaces in the artist's name\n",
    "    keyword = keyword_filename.replace(\"_\", \" \")\n",
    "    \n",
    "    # Parameters for the API call\n",
    "    params = {\n",
    "        \"engine\": \"google_trends\",\n",
    "        \"q\": keyword,\n",
    "        \"data_type\": \"TIMESERIES\",\n",
    "        \"date\": \"all\",  # Specify the time range\n",
    "        \"api_key\": SERPAPI_KEY , # Replace with your SerpAPI key\n",
    "        \"geo\": country_code , \n",
    "    }\n",
    "    \n",
    "    # Fetch data using SerpAPI\n",
    "    search = GoogleSearch(params)\n",
    "    results = search.get_dict()\n",
    "    \n",
    "    # Extract 'interest_over_time' section\n",
    "    interest_over_time = results.get(\"interest_over_time\", {})\n",
    "    \n",
    "    # Define the output file path\n",
    "    output_path = f\"../data/GTrends/{keyword}_{country_code}_GTrends.json\"\n",
    "\n",
    "    # Save the data as a JSON file\n",
    "    with open(output_path, \"w\") as file:\n",
    "        json.dump(interest_over_time, file, indent=4)\n",
    "    \n",
    "    return print(f\"Google Trends data successfully saved to {output_path}\")"
   ]
  },
  {
   "cell_type": "markdown",
   "metadata": {},
   "source": [
    "Similar function but adjusted for player name search"
   ]
  },
  {
   "cell_type": "code",
   "execution_count": null,
   "metadata": {},
   "outputs": [],
   "source": [
    "def fetch_google_trends(country_code, keyword, SERPAPI_KEY):    \n",
    "    \n",
    "    # Keeps the file names uniform - changing artist_name from here on\n",
    "    keyword_filename = keyword\n",
    "\n",
    "    # Replace underscores with spaces in the artist's name\n",
    "    keyword = keyword_filename.replace(\"_\", \" \")\n",
    "    \n",
    "    # Parameters for the API call\n",
    "    params = {\n",
    "        \"engine\": \"google_trends\",\n",
    "        \"q\": keyword,\n",
    "        \"data_type\": \"TIMESERIES\",\n",
    "        \"date\": \"all\",  # Specify the time range\n",
    "        \"api_key\": SERPAPI_KEY , # Replace with your SerpAPI key\n",
    "        \"geo\": country_code , \n",
    "    }\n",
    "    \n",
    "    # Fetch data using SerpAPI\n",
    "    search = GoogleSearch(params)\n",
    "    results = search.get_dict()\n",
    "    \n",
    "    # Extract 'interest_over_time' section\n",
    "    interest_over_time = results.get(\"interest_over_time\", {})\n",
    "    \n",
    "    # Define the output file path\n",
    "    output_path = f\"../data/GTrends/{keyword}_GTrends.json\"\n",
    "\n",
    "    # Save the data as a JSON file\n",
    "    with open(output_path, \"w\") as file:\n",
    "        json.dump(interest_over_time, file, indent=4)\n",
    "    \n",
    "    return print(f\"Google Trends data successfully saved to {output_path}\")"
   ]
  },
  {
   "cell_type": "markdown",
   "metadata": {},
   "source": [
    "Here are the following countries the top ten players hail from as well as the players themselves - we will use this list in order to retrieve the trend data for only the desired player's countries and the player's search rates itself in their country."
   ]
  },
  {
   "cell_type": "code",
   "execution_count": 1,
   "metadata": {},
   "outputs": [],
   "source": [
    "## we can remove these lists and dictonary and work with top_players if the the following 2 gtrend calls work\n",
    "\n",
    "player_countries = [\n",
    "    \"FR\", # France - Alireza\n",
    "    \"IN\", # India - Arjun, Gukesh, Viswanathan\n",
    "    \"US\", # United States - Fabiano, Hikaru\n",
    "    \"RU\", # Russia - Ian\n",
    "    \"NO\", # Norway - Magnus\n",
    "    \"UZ\", # Uzbekistan - Nodirbek\n",
    "    \"CN\", # China - Yi\n",
    "]\n",
    "players_countries = [\n",
    "    {'name':\"Magnus Carlsen\",'country':\"NO\"},\n",
    "    {'name':\"Fabio Caruana\",'country':\"US\"},\n",
    "    {'name':\"Hikaru Nakamura\",'country':\"US\"},\n",
    "    {'name':\"Arjun Erigaisi\",'country':'IN'},\n",
    "    {'name':\"Gukesh Dommaraju\",'country':\"IN\"},\n",
    "    {'name':\"Nodirbek Abdusattorov\",'country':\"UZ\"},\n",
    "    {'name':\"Ian Nepomniachtchi\",'country':'RU'},\n",
    "    {'name':\"Yi Wei\",'country':\"CN\"},\n",
    "    {'name':\"Viswanathan Anand\",'country':\"IN\"}\n",
    "]"
   ]
  },
  {
   "cell_type": "markdown",
   "metadata": {},
   "source": [
    "We will now retrieve the google trends data for the keyword search of \"Chess\" inside each of the top ten players country. \n",
    "\n",
    "The following loop will utilize the player_countries list and the fetch_google_trends() function to iterate through all players"
   ]
  },
  {
   "cell_type": "code",
   "execution_count": 18,
   "metadata": {},
   "outputs": [
    {
     "name": "stdout",
     "output_type": "stream",
     "text": [
      "Retrieving Google Trends data for country FR\n"
     ]
    },
    {
     "ename": "NameError",
     "evalue": "name 'GoogleSearch' is not defined",
     "output_type": "error",
     "traceback": [
      "\u001b[0;31m---------------------------------------------------------------------------\u001b[0m",
      "\u001b[0;31mNameError\u001b[0m                                 Traceback (most recent call last)",
      "Cell \u001b[0;32mIn[18], line 3\u001b[0m\n\u001b[1;32m      1\u001b[0m \u001b[38;5;28;01mfor\u001b[39;00m country \u001b[38;5;129;01min\u001b[39;00m player_countries:\n\u001b[1;32m      2\u001b[0m     \u001b[38;5;28mprint\u001b[39m(\u001b[38;5;124mf\u001b[39m\u001b[38;5;124m\"\u001b[39m\u001b[38;5;124mRetrieving Google Trends data for country \u001b[39m\u001b[38;5;132;01m{\u001b[39;00mcountry\u001b[38;5;132;01m}\u001b[39;00m\u001b[38;5;124m\"\u001b[39m)\n\u001b[0;32m----> 3\u001b[0m     \u001b[43mfetch_google_trends\u001b[49m\u001b[43m(\u001b[49m\u001b[43mcountry\u001b[49m\u001b[43m,\u001b[49m\u001b[43m \u001b[49m\u001b[38;5;124;43m\"\u001b[39;49m\u001b[38;5;124;43mChess\u001b[39;49m\u001b[38;5;124;43m\"\u001b[39;49m\u001b[43m,\u001b[49m\u001b[43m \u001b[49m\u001b[43mSERPAPI_KEY\u001b[49m\u001b[43m)\u001b[49m\n\u001b[1;32m      4\u001b[0m \u001b[38;5;28mprint\u001b[39m(\u001b[38;5;124m\"\u001b[39m\u001b[38;5;124mAll Google Trends data for countries have been processed.\u001b[39m\u001b[38;5;124m\"\u001b[39m)\n",
      "Cell \u001b[0;32mIn[10], line 21\u001b[0m, in \u001b[0;36mfetch_google_trends\u001b[0;34m(country_code, keyword, SERPAPI_KEY)\u001b[0m\n\u001b[1;32m     11\u001b[0m params \u001b[38;5;241m=\u001b[39m {\n\u001b[1;32m     12\u001b[0m     \u001b[38;5;124m\"\u001b[39m\u001b[38;5;124mengine\u001b[39m\u001b[38;5;124m\"\u001b[39m: \u001b[38;5;124m\"\u001b[39m\u001b[38;5;124mgoogle_trends\u001b[39m\u001b[38;5;124m\"\u001b[39m,\n\u001b[1;32m     13\u001b[0m     \u001b[38;5;124m\"\u001b[39m\u001b[38;5;124mq\u001b[39m\u001b[38;5;124m\"\u001b[39m: keyword,\n\u001b[0;32m   (...)\u001b[0m\n\u001b[1;32m     17\u001b[0m     \u001b[38;5;124m\"\u001b[39m\u001b[38;5;124mgeo\u001b[39m\u001b[38;5;124m\"\u001b[39m: country_code , \n\u001b[1;32m     18\u001b[0m }\n\u001b[1;32m     20\u001b[0m \u001b[38;5;66;03m# Fetch data using SerpAPI\u001b[39;00m\n\u001b[0;32m---> 21\u001b[0m search \u001b[38;5;241m=\u001b[39m \u001b[43mGoogleSearch\u001b[49m(params)\n\u001b[1;32m     22\u001b[0m results \u001b[38;5;241m=\u001b[39m search\u001b[38;5;241m.\u001b[39mget_dict()\n\u001b[1;32m     24\u001b[0m \u001b[38;5;66;03m# Extract 'interest_over_time' section\u001b[39;00m\n",
      "\u001b[0;31mNameError\u001b[0m: name 'GoogleSearch' is not defined"
     ]
    }
   ],
   "source": [
    "for country in player_countries:\n",
    "    print(f\"Retrieving Google Trends data for country {country}\")\n",
    "    fetch_google_trends(country, \"Chess\", SERPAPI_KEY)\n",
    "print(\"All Google Trends data for countries have been processed.\")\n",
    "\n",
    "\n",
    "#Uncomment this part if the retrieval of player data works\n",
    "#for player in top_players:\n",
    "#    print(f\"Retrieving Google Trends data for country {player['country'}\")\n",
    "#    fetch_google_trends(player['country'], \"Chess\", SERPAPI_KEY)\n",
    "#print(\"All Google Trends data for countries have been processed.\")"
   ]
  },
  {
   "cell_type": "code",
   "execution_count": 1,
   "metadata": {},
   "outputs": [
    {
     "ename": "NameError",
     "evalue": "name 'players_countries' is not defined",
     "output_type": "error",
     "traceback": [
      "\u001b[0;31m---------------------------------------------------------------------------\u001b[0m",
      "\u001b[0;31mNameError\u001b[0m                                 Traceback (most recent call last)",
      "Cell \u001b[0;32mIn[1], line 1\u001b[0m\n\u001b[0;32m----> 1\u001b[0m \u001b[38;5;28;01mfor\u001b[39;00m player \u001b[38;5;129;01min\u001b[39;00m \u001b[43mplayers_countries\u001b[49m:\n\u001b[1;32m      2\u001b[0m     \u001b[38;5;28mprint\u001b[39m(\u001b[38;5;124mf\u001b[39m\u001b[38;5;124m\"\u001b[39m\u001b[38;5;124mRetreving Google Trends data for player : \u001b[39m\u001b[38;5;132;01m{\u001b[39;00mplayer[\u001b[38;5;124m'\u001b[39m\u001b[38;5;124mname\u001b[39m\u001b[38;5;124m'\u001b[39m]\u001b[38;5;132;01m}\u001b[39;00m\u001b[38;5;124m\"\u001b[39m)\n\u001b[1;32m      3\u001b[0m     fetch_google_trends(player[\u001b[38;5;124m'\u001b[39m\u001b[38;5;124mcountry\u001b[39m\u001b[38;5;124m'\u001b[39m],\u001b[38;5;124mf\u001b[39m\u001b[38;5;124m\"\u001b[39m\u001b[38;5;132;01m{\u001b[39;00mplayer[\u001b[38;5;124m'\u001b[39m\u001b[38;5;124mname\u001b[39m\u001b[38;5;124m'\u001b[39m]\u001b[38;5;132;01m}\u001b[39;00m\u001b[38;5;124m\"\u001b[39m, SERPAPI_KEY)\n",
      "\u001b[0;31mNameError\u001b[0m: name 'players_countries' is not defined"
     ]
    }
   ],
   "source": [
    "#run this code once \n",
    "for player in top_players:\n",
    "    print(f\"Retreving Google Trends data for player : {player['name']}\")\n",
    "    fetch_google_trends(player['country'],f\"{player['name']}\", SERPAPI_KEY)\n",
    "    print(\"All Google Trends data for players have been processed\")\n",
    "   "
   ]
  },
  {
   "cell_type": "markdown",
   "metadata": {},
   "source": [
    "## FIDE Webscraper Setup\n",
    "Here, we are setting up the FIDE webscraper to get a list of the current top 10 chess players.\n",
    "\n",
    "Follow the install instructions on the project README.md in order to set up the correct environment.\n",
    "\n",
    "The function below receives a fide_number and returns a json file containing FIDE information and historical ELO progression."
   ]
  },
  {
   "cell_type": "code",
   "execution_count": 56,
   "metadata": {},
   "outputs": [],
   "source": [
    "# Takes a player's FIDE number and returns their information and ELO history\n",
    "def fide_data(fide_number):\n",
    "    \n",
    "    # Find the player's name based on their FIDE number\n",
    "    player = next((p for p in top_players if p[\"fide_number\"] == fide_number), None)\n",
    "\n",
    "    if not player:\n",
    "        raise ValueError(f\"Player with FIDE number {fide_number} not found.\")\n",
    "\n",
    "    # Replace spaces with underscores for the file name\n",
    "    player_name = player[\"name\"].replace(\" \", \"_\") \n",
    "\n",
    "    # Build the API URL\n",
    "    url = f\"http://localhost:3000/player/{fide_number}/info?include_history=true\"\n",
    "\n",
    "    # Make a GET request\n",
    "    response = requests.get(url)\n",
    "\n",
    "    # Convert the HTTP response's JSON content into a Python object\n",
    "    data = response.json()\n",
    "\n",
    "    # Create the name and destination of the JSON file\n",
    "    output_path = f\"../data/Fide/{player_name}_fide.json\"\n",
    "\n",
    "    # Save the data as a JSON file\n",
    "    os.makedirs(os.path.dirname(output_path), exist_ok=True)  # Ensure the directory exists\n",
    "    with open(output_path, \"w\") as file:\n",
    "        json.dump(data, file, indent=4)\n",
    "\n",
    "    print(f\"FIDE data successfully saved to {output_path}\")"
   ]
  },
  {
   "cell_type": "markdown",
   "metadata": {},
   "source": [
    "The loop below utilizes the function we created above and the top_players() dictionary to iterate through the top ten players. "
   ]
  },
  {
   "cell_type": "code",
   "execution_count": 60,
   "metadata": {},
   "outputs": [
    {
     "name": "stdout",
     "output_type": "stream",
     "text": [
      "Processing Chess.com data for Magnus_Carlsen (Username: 1503014)...\n",
      "FIDE data successfully saved to ../data/Fide/Magnus_Carlsen_fide.json\n",
      "Processing Chess.com data for Fabiano_Caruana (Username: 2020009)...\n",
      "FIDE data successfully saved to ../data/Fide/Fabiano_Caruana_fide.json\n",
      "Processing Chess.com data for Hikaru_Nakamura (Username: 2016192)...\n",
      "FIDE data successfully saved to ../data/Fide/Hikaru_Nakamura_fide.json\n",
      "Processing Chess.com data for Arjun_Erigaisi (Username: 35009192)...\n",
      "FIDE data successfully saved to ../data/Fide/Arjun_Erigaisi_fide.json\n",
      "Processing Chess.com data for Gukesh_Dommaraju (Username: 46616543)...\n",
      "FIDE data successfully saved to ../data/Fide/Gukesh_Dommaraju_fide.json\n",
      "Processing Chess.com data for Nodirbek_Abdusattorov (Username: 14204118)...\n",
      "FIDE data successfully saved to ../data/Fide/Nodirbek_Abdusattorov_fide.json\n",
      "Processing Chess.com data for Alireza-Firouzja (Username: 12573981)...\n",
      "FIDE data successfully saved to ../data/Fide/Alireza-Firouzja_fide.json\n",
      "Processing Chess.com data for Ian_Nepomniachtchi (Username: 4168119)...\n",
      "FIDE data successfully saved to ../data/Fide/Ian_Nepomniachtchi_fide.json\n",
      "Processing Chess.com data for Yi_Wei (Username: 8603405)...\n",
      "FIDE data successfully saved to ../data/Fide/Yi_Wei_fide.json\n",
      "Processing Chess.com data for Viswanathan_Anand (Username: 5000017)...\n",
      "FIDE data successfully saved to ../data/Fide/Viswanathan_Anand_fide.json\n",
      "All Chess.com data has been processed.\n"
     ]
    }
   ],
   "source": [
    "for player in top_players:\n",
    "    username = player[\"fide_number\"]\n",
    "    print(f\"Processing Chess.com data for {player['name']} (Username: {username})...\")\n",
    "    fide_data(username)\n",
    "\n",
    "print(\"All Chess.com data has been processed.\")"
   ]
  },
  {
   "cell_type": "markdown",
   "metadata": {},
   "source": [
    "##  Chess.com API Set Up\n",
    "\n",
    "We use the Chess.com Published Data API to return the top players Chess.com stats.\n",
    "\n",
    "The function receives a player's Chess.com username and outputs their publicly available Chess.com stats"
   ]
  },
  {
   "cell_type": "code",
   "execution_count": 58,
   "metadata": {},
   "outputs": [],
   "source": [
    "# Takes a player's Chess.com username and returns player's game stats\n",
    "def chess_com_data(username):\n",
    "    # Look up the player's name in the top_players dictionary\n",
    "    player = next((p for p in top_players if p[\"chess_com_username\"] == username), None)\n",
    "\n",
    "    if not player:\n",
    "        print(f\"Error: Player with username '{username}' not found in top_players.\")\n",
    "        return\n",
    "\n",
    "    # Get the player's name\n",
    "    player_name = player[\"name\"].replace(\" \", \"_\")\n",
    "\n",
    "    # Builds URL for desired player's game stats\n",
    "    url = f\"https://api.chess.com/pub/player/{username}/stats\"\n",
    "\n",
    "    # Define headers\n",
    "    headers = {\n",
    "        \"User-Agent\": \"Mozilla/5.0 (Windows NT 10.0; Win64; x64) AppleWebKit/537.36 (KHTML, like Gecko) Chrome/91.0.4472.124 Safari/537.36\"\n",
    "    }\n",
    "\n",
    "    # Make a GET request with headers\n",
    "    response = requests.get(url, headers=headers)\n",
    "\n",
    "    # Check for HTTP errors\n",
    "    if response.status_code != 200:\n",
    "        print(f\"Error: Received status code {response.status_code} for user {username}\")\n",
    "        return\n",
    "\n",
    "    # Ensure the response contains valid JSON\n",
    "    if not response.text:\n",
    "        print(f\"Error: Empty response for user {username}\")\n",
    "        return\n",
    "\n",
    "    try:\n",
    "        # Parse the JSON content\n",
    "        data = response.json()\n",
    "    except json.JSONDecodeError:\n",
    "        print(f\"Error: Failed to decode JSON response for user {username}\")\n",
    "        return\n",
    "\n",
    "    # Creates the name and destination of the JSON file\n",
    "    output_path = f\"../data/Chess_com/{player_name}_stats.json\"\n",
    "\n",
    "    # Save the data as a JSON file\n",
    "    with open(output_path, \"w\") as file:\n",
    "        json.dump(data, file, indent=4)\n",
    "\n",
    "    print(f\"Chess.com stats successfully saved to {output_path}\")"
   ]
  },
  {
   "cell_type": "markdown",
   "metadata": {},
   "source": [
    "Similar to the previous loop, this loop utilizes the function we created above and the top_players() dictionary to iterate through the top ten players. "
   ]
  },
  {
   "cell_type": "code",
   "execution_count": 59,
   "metadata": {},
   "outputs": [
    {
     "name": "stdout",
     "output_type": "stream",
     "text": [
      "Processing Chess.com data for Magnus_Carlsen (Username: magnuscarlsen)...\n",
      "Chess.com stats successfully saved to ../data/Chess_com/Magnus_Carlsen_stats.json\n",
      "Processing Chess.com data for Fabiano_Caruana (Username: fabianocaruana)...\n",
      "Chess.com stats successfully saved to ../data/Chess_com/Fabiano_Caruana_stats.json\n",
      "Processing Chess.com data for Hikaru_Nakamura (Username: hikaru)...\n",
      "Chess.com stats successfully saved to ../data/Chess_com/Hikaru_Nakamura_stats.json\n",
      "Processing Chess.com data for Arjun_Erigaisi (Username: ghandeevam2003)...\n",
      "Chess.com stats successfully saved to ../data/Chess_com/Arjun_Erigaisi_stats.json\n",
      "Processing Chess.com data for Gukesh_Dommaraju (Username: gukeshdommaraju)...\n",
      "Chess.com stats successfully saved to ../data/Chess_com/Gukesh_Dommaraju_stats.json\n",
      "Processing Chess.com data for Nodirbek_Abdusattorov (Username: chesswarrior7197)...\n",
      "Chess.com stats successfully saved to ../data/Chess_com/Nodirbek_Abdusattorov_stats.json\n",
      "Processing Chess.com data for Alireza-Firouzja (Username: firouzja2003)...\n",
      "Chess.com stats successfully saved to ../data/Chess_com/Alireza-Firouzja_stats.json\n",
      "Processing Chess.com data for Ian_Nepomniachtchi (Username: lachesisq)...\n",
      "Chess.com stats successfully saved to ../data/Chess_com/Ian_Nepomniachtchi_stats.json\n",
      "Processing Chess.com data for Yi_Wei (Username: wei-yi)...\n",
      "Chess.com stats successfully saved to ../data/Chess_com/Yi_Wei_stats.json\n",
      "Processing Chess.com data for Viswanathan_Anand (Username: thevish)...\n",
      "Chess.com stats successfully saved to ../data/Chess_com/Viswanathan_Anand_stats.json\n",
      "All Chess.com data has been processed.\n"
     ]
    }
   ],
   "source": [
    "\n",
    "for player in top_players:\n",
    "    username = player[\"chess_com_username\"]\n",
    "    print(f\"Processing Chess.com data for {player['name']} (Username: {username})...\")\n",
    "    chess_com_data(username)\n",
    "\n",
    "print(\"All Chess.com data has been processed.\")\n"
   ]
  }
 ],
 "metadata": {
  "kernelspec": {
   "display_name": ".venv",
   "language": "python",
   "name": "python3"
  },
  "language_info": {
   "codemirror_mode": {
    "name": "ipython",
    "version": 3
   },
   "file_extension": ".py",
   "mimetype": "text/x-python",
   "name": "python",
   "nbconvert_exporter": "python",
   "pygments_lexer": "ipython3",
   "version": "3.13.0"
  }
 },
 "nbformat": 4,
 "nbformat_minor": 2
}
