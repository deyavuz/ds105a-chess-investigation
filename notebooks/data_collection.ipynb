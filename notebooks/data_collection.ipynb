{
 "cells": [
  {
   "cell_type": "code",
   "execution_count": 1,
   "metadata": {},
   "outputs": [],
   "source": [
    "import os\n",
    "import json\n",
    "import requests\n",
    "import pandas as pd\n",
    "\n",
    "from serpapi import GoogleSearch\n",
    "\n",
    "from dotenv import load_dotenv\n",
    "from tqdm.notebook import tqdm\n",
    "tqdm.pandas()"
   ]
  },
  {
   "cell_type": "markdown",
   "metadata": {},
   "source": [
    "## SERPAPI Setup\n",
    "Setting up the SERPAPI API Pull"
   ]
  },
  {
   "cell_type": "code",
   "execution_count": 2,
   "metadata": {},
   "outputs": [],
   "source": [
    "# Pulls key from .env \n",
    "SERPAPI_KEY = os.getenv(\"serpapi_key\")"
   ]
  },
  {
   "cell_type": "code",
   "execution_count": 3,
   "metadata": {},
   "outputs": [],
   "source": [
    "# Fetches Google Trends data since 2004 for a given keyword and country code - saves it to a JSON file.\n",
    "\n",
    "# Not finished - parameters need to be set up to pull time series data in \"data_type\" and country code specification needs to be added\n",
    "# Currently isn't pulling correct information\n",
    "\n",
    "def fetch_google_trends(country_code, keyword, SERPAPI_KEY):    \n",
    "    \n",
    "    # Keeps the file names uniform - changing artist_name from here on\n",
    "    keyword_filename = keyword\n",
    "\n",
    "    # Replace underscores with spaces in the artist's name\n",
    "    keyword = keyword_filename.replace(\"_\", \" \")\n",
    "    \n",
    "    # Parameters for the API call\n",
    "    params = {\n",
    "        \"engine\": \"google_trends\",\n",
    "        \"q\": keyword,\n",
    "        \"data_type\": \"GEO_MAP_0\",\n",
    "        \"date\": \"all\",  # Specify the time range\n",
    "        \"api_key\": SERPAPI_KEY , # Replace with your SerpAPI key\n",
    "        \"region\": \"COUNTRY\",\n",
    "        \"geo\": country_code , \n",
    "    }\n",
    "    \n",
    "    # Fetch data using SerpAPI\n",
    "    search = GoogleSearch(params)\n",
    "    results = search.get_dict()\n",
    "    \n",
    "    # Extract 'interest_over_time' section\n",
    "    interest_over_time = results.get(\"interest_over_time\", {})\n",
    "    \n",
    "    # Define the output file path\n",
    "    output_path = f\"../data/gtrends/{keyword}_{country_code}_Trends.json\"\n",
    "\n",
    "    # Save the data as a JSON file\n",
    "    with open(output_path, \"w\") as file:\n",
    "        json.dump(interest_over_time, file, indent=4)\n",
    "    \n",
    "    return print(f\"Google Trends data successfully saved to {output_path}\")"
   ]
  },
  {
   "cell_type": "code",
   "execution_count": 4,
   "metadata": {},
   "outputs": [],
   "source": [
    "# Example\n",
    "# fetch_google_trends(\"GB\", \"Chess\", SERPAPI_KEY)"
   ]
  }
 ],
 "metadata": {
  "kernelspec": {
   "display_name": ".venv",
   "language": "python",
   "name": "python3"
  },
  "language_info": {
   "codemirror_mode": {
    "name": "ipython",
    "version": 3
   },
   "file_extension": ".py",
   "mimetype": "text/x-python",
   "name": "python",
   "nbconvert_exporter": "python",
   "pygments_lexer": "ipython3",
   "version": "3.11.8"
  }
 },
 "nbformat": 4,
 "nbformat_minor": 2
}
