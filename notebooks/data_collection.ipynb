{
 "cells": [
  {
   "cell_type": "code",
   "execution_count": 3,
   "metadata": {},
   "outputs": [],
   "source": [
    "import os\n",
    "import json\n",
    "import requests\n",
    "import pandas as pd\n",
    "\n",
    "from serpapi import GoogleSearch\n",
    "\n",
    "from dotenv import load_dotenv\n",
    "\n",
    "from tqdm.notebook import tqdm\n",
    "tqdm.pandas()"
   ]
  },
  {
   "cell_type": "code",
   "execution_count": 16,
   "metadata": {},
   "outputs": [],
   "source": [
    "# List of Top Chess Players FIDE Number\n",
    "top_players = [\n",
    "    \"1503014\", # Magnus Carlsen\n",
    "    \"2020009\", # Fabiano Caruana\n",
    "    \"2016192\", # Hikaru Nakamura\n",
    "    \"35009192\", # Arjun Erigaisi\n",
    "    \"46616543\", # Gukesh Dommaraju\n",
    "    \"14204118\", # Nodirbek Abdusattorov\n",
    "    \"12573981\", # Alireza Firouzja\n",
    "    \"4168119\", # Ian Nepomniachtchi\n",
    "    \"8603405\", # Yi Wei\n",
    "    \"5000017\", # Viswanathan Anand\n",
    "]"
   ]
  },
  {
   "cell_type": "code",
   "execution_count": 20,
   "metadata": {},
   "outputs": [],
   "source": [
    "# List of Top Chess Player's Chess.com Usernames\n",
    "# Same order as the top_players list\n",
    "\n",
    "top_player_usernames = [\n",
    "    \"magnuscarlsen\", # Magnus Carlsen\n",
    "    \"fabianocaruana\", # Fabiano Caruana\n",
    "    \"hikaru\", # Hikaru Nakamura\n",
    "    \"ghandeevam2003\", # Arjun Erigaisi\n",
    "    \"gukeshdommaraju\", # Gukesh Dommaraju\n",
    "    \"chesswarrior7197\", # Nodirbek Abdusattorov\n",
    "    \"firouzja2003\", # Alireza Firouzja\n",
    "    \"lachesisq\", # Ian Nepomniachtchi\n",
    "    \"wei-yi\", # Yi Wei\n",
    "    \"thevish\", # Viswanathan Anand\n",
    "]"
   ]
  },
  {
   "cell_type": "markdown",
   "metadata": {},
   "source": [
    "### SERPAPI Setup\n",
    "Setting up the SERPAPI API Pull"
   ]
  },
  {
   "cell_type": "code",
   "execution_count": 2,
   "metadata": {},
   "outputs": [],
   "source": [
    "# Pulls key from .env \n",
    "SERPAPI_KEY = os.getenv(\"serpapi_key\")"
   ]
  },
  {
   "cell_type": "code",
   "execution_count": 3,
   "metadata": {},
   "outputs": [],
   "source": [
    "# Fetches Google Trends data since 2004 for a given keyword and country code - saves it to a JSON file.\n",
    "def fetch_google_trends(country_code, keyword, SERPAPI_KEY):    \n",
    "    \n",
    "    # Keeps the file names uniform - changing artist_name from here on\n",
    "    keyword_filename = keyword\n",
    "\n",
    "    # Replace underscores with spaces in the artist's name\n",
    "    keyword = keyword_filename.replace(\"_\", \" \")\n",
    "    \n",
    "    # Parameters for the API call\n",
    "    params = {\n",
    "        \"engine\": \"google_trends\",\n",
    "        \"q\": keyword,\n",
    "        \"data_type\": \"TIMESERIES\",\n",
    "        \"date\": \"all\",  # Specify the time range\n",
    "        \"api_key\": SERPAPI_KEY , # Replace with your SerpAPI key\n",
    "        \"geo\": country_code , \n",
    "    }\n",
    "    \n",
    "    # Fetch data using SerpAPI\n",
    "    search = GoogleSearch(params)\n",
    "    results = search.get_dict()\n",
    "    \n",
    "    # Extract 'interest_over_time' section\n",
    "    interest_over_time = results.get(\"interest_over_time\", {})\n",
    "    \n",
    "    # Define the output file path\n",
    "    output_path = f\"../data/GTrends/{keyword}_{country_code}_GTrends.json\"\n",
    "\n",
    "    # Save the data as a JSON file\n",
    "    with open(output_path, \"w\") as file:\n",
    "        json.dump(interest_over_time, file, indent=4)\n",
    "    \n",
    "    return print(f\"Google Trends data successfully saved to {output_path}\")"
   ]
  },
  {
   "cell_type": "code",
   "execution_count": 4,
   "metadata": {},
   "outputs": [],
   "source": [
    "# Example GB\n",
    "# fetch_google_trends(\"GB\", \"Chess\", SERPAPI_KEY)"
   ]
  },
  {
   "cell_type": "markdown",
   "metadata": {},
   "source": [
    "### FIDE Webscraper Setup\n",
    "Here, we are setting up the FIDE webscraper to get a list of the current top 10 chess players.\n",
    "\n",
    "Follow the install instructions on the project README.md in order to set up the correct environment"
   ]
  },
  {
   "cell_type": "code",
   "execution_count": 13,
   "metadata": {},
   "outputs": [],
   "source": [
    "# Takes a player's fide number and returns player's information and ELO history\n",
    "def fide_data(fide_number) :\n",
    "    # Replace with the actual FIDE number\n",
    "    url = f\"http://localhost:3000/player/{fide_number}/info?include_history=true\"\n",
    "\n",
    "    # Make a GET request\n",
    "    response = requests.get(url)\n",
    "\n",
    "    # Converts the HTTP response's JSON content into a Python object that can be serialized.\n",
    "    data = response.json()\n",
    "\n",
    "    # Creates the name and destination of the json file\n",
    "    output_path = f\"../data/Fide/{fide_number}_fide.json\"\n",
    "\n",
    "    # Save the data as a JSON file\n",
    "    with open(output_path, \"w\") as file:\n",
    "        json.dump(data, file, indent=4)\n",
    "    \n",
    "    return print(f\"FIDE data successfully saved to {output_path}\")"
   ]
  },
  {
   "cell_type": "code",
   "execution_count": 15,
   "metadata": {},
   "outputs": [
    {
     "name": "stdout",
     "output_type": "stream",
     "text": [
      "FIDE data successfully saved to ../data/Fide/1503014_fide.json\n",
      "FIDE data successfully saved to ../data/Fide/2020009_fide.json\n",
      "FIDE data successfully saved to ../data/Fide/2016192_fide.json\n",
      "FIDE data successfully saved to ../data/Fide/35009192_fide.json\n",
      "FIDE data successfully saved to ../data/Fide/46616543_fide.json\n",
      "FIDE data successfully saved to ../data/Fide/14204118_fide.json\n",
      "FIDE data successfully saved to ../data/Fide/12573981_fide.json\n",
      "FIDE data successfully saved to ../data/Fide/4168119_fide.json\n",
      "FIDE data successfully saved to ../data/Fide/8603405_fide.json\n",
      "FIDE data successfully saved to ../data/Fide/5000017_fide.json\n"
     ]
    }
   ],
   "source": [
    "for player_id in top_players:\n",
    "    fide_data(player_id)"
   ]
  },
  {
   "cell_type": "markdown",
   "metadata": {},
   "source": [
    "###  Chess.com API Set Up\n",
    "\n",
    "We use the Chess.com Published Data API to return the top players"
   ]
  },
  {
   "cell_type": "code",
   "execution_count": 19,
   "metadata": {},
   "outputs": [
    {
     "name": "stdout",
     "output_type": "stream",
     "text": [
      "*   Trying 104.18.140.67:443...\n",
      "* Connected to api.chess.com (104.18.140.67) port 443 (#0)\n",
      "* ALPN, offering h2\n",
      "* ALPN, offering http/1.1\n",
      "*  CAfile: /etc/ssl/certs/ca-certificates.crt\n",
      "*  CApath: /etc/ssl/certs\n",
      "* TLSv1.0 (OUT), TLS header, Certificate Status (22):\n",
      "* TLSv1.3 (OUT), TLS handshake, Client hello (1):\n",
      "* TLSv1.2 (IN), TLS header, Certificate Status (22):\n",
      "* TLSv1.3 (IN), TLS handshake, Server hello (2):\n",
      "* TLSv1.2 (IN), TLS header, Finished (20):\n",
      "* TLSv1.2 (IN), TLS header, Supplemental data (23):\n",
      "* TLSv1.3 (IN), TLS handshake, Encrypted Extensions (8):\n",
      "* TLSv1.3 (IN), TLS handshake, Certificate (11):\n",
      "* TLSv1.3 (IN), TLS handshake, CERT verify (15):\n",
      "* TLSv1.3 (IN), TLS handshake, Finished (20):\n",
      "* TLSv1.2 (OUT), TLS header, Finished (20):\n",
      "* TLSv1.3 (OUT), TLS change cipher, Change cipher spec (1):\n",
      "* TLSv1.2 (OUT), TLS header, Supplemental data (23):\n",
      "* TLSv1.3 (OUT), TLS handshake, Finished (20):\n",
      "* SSL connection using TLSv1.3 / TLS_AES_256_GCM_SHA384\n",
      "* ALPN, server accepted to use h2\n",
      "* Server certificate:\n",
      "*  subject: CN=chess.com\n",
      "*  start date: Dec  3 07:03:24 2024 GMT\n",
      "*  expire date: Mar  3 07:03:23 2025 GMT\n",
      "*  subjectAltName: host \"api.chess.com\" matched cert's \"*.chess.com\"\n",
      "*  issuer: C=US; O=Google Trust Services; CN=WE1\n",
      "*  SSL certificate verify ok.\n",
      "* Using HTTP2, server supports multiplexing\n",
      "* Connection state changed (HTTP/2 confirmed)\n",
      "* Copying HTTP/2 data in stream buffer to connection buffer after upgrade: len=0\n",
      "* TLSv1.2 (OUT), TLS header, Supplemental data (23):\n",
      "* TLSv1.2 (OUT), TLS header, Supplemental data (23):\n",
      "* TLSv1.2 (OUT), TLS header, Supplemental data (23):\n",
      "* Using Stream ID: 1 (easy handle 0x55683c3aceb0)\n",
      "* TLSv1.2 (OUT), TLS header, Supplemental data (23):\n",
      "> GET /pub/player/magnuscarlsen/stats HTTP/2\n",
      "> Host: api.chess.com\n",
      "> user-agent: curl/7.81.0\n",
      "> accept: */*\n",
      "> \n",
      "* TLSv1.2 (IN), TLS header, Supplemental data (23):\n",
      "* TLSv1.3 (IN), TLS handshake, Newsession Ticket (4):\n",
      "* TLSv1.3 (IN), TLS handshake, Newsession Ticket (4):\n",
      "* old SSL session ID is stale, removing\n",
      "* TLSv1.2 (IN), TLS header, Supplemental data (23):\n",
      "* TLSv1.2 (OUT), TLS header, Supplemental data (23):\n",
      "* TLSv1.2 (IN), TLS header, Supplemental data (23):\n",
      "* TLSv1.2 (IN), TLS header, Supplemental data (23):\n",
      "< HTTP/2 200 \n",
      "< date: Mon, 16 Dec 2024 18:01:22 GMT\n",
      "< content-type: application/json; charset=utf-8\n",
      "< vary: Accept-Encoding\n",
      "< x-chesscom-matched: pubapi_player_stats\n",
      "< etag: W/\"ce67bc43d9659e37699ee892cf59a420\"\n",
      "< access-control-allow-origin: *\n",
      "< last-modified: Friday, 13-Dec-2024 23:50:09 GMT+0000\n",
      "< cache-control: public, max-age=5\n",
      "< expires: Mon, 16 Dec 2024 18:01:27 GMT\n",
      "< x-chesscom-meta: lean=published\n",
      "< x-chesscom-request-id-lb: 43fec5086812e0f87a4e09b1608c3bd5\n",
      "< x-chesscom-request-id-cdn: 8f19dad52ad270d6-IAD\n",
      "< x-chesscom-servedby: 152\n",
      "< strict-transport-security: max-age=63072000; includeSubDomains; preload\n",
      "< cf-cache-status: REVALIDATED\n",
      "< set-cookie: __cf_bm=.j5XblQLESSWW6kLRezNatJQtdDKv_FT6c9nJ5Od3kY-1734372082-1.0.1.1-vHkqbifOdoDAVTXFWoCRgf4CH71ekwPJSqc3oXOl9UbNFapSll056068klk..G.dP_nN.E3NiNEkweB1Eic6M8oP4Vr1tu9r_1OT.pSMPZI; path=/; expires=Mon, 16-Dec-24 18:31:22 GMT; domain=.chess.com; HttpOnly; Secure; SameSite=None\n",
      "< report-to: {\"endpoints\":[{\"url\":\"https:\\/\\/a.nel.cloudflare.com\\/report\\/v4?s=ax1cLhfiegR4iSJ5P2PQuVnXpv70KHpEXcVrcJJg%2FPvhM6Dkym5YJ6tFM%2FtMb3E4qYndjwhwtHRtPpokt9%2FKrCSutMOWN8PVX34WgWIjn2J%2FBXZKE4V3nEka5qNYw9Y%3D\"}],\"group\":\"cf-nel\",\"max_age\":604800}\n",
      "< nel: {\"success_fraction\":1,\"report_to\":\"cf-nel\",\"max_age\":604800}\n",
      "< server: cloudflare\n",
      "< cf-ray: 8f30940d383dd595-AMS\n",
      "< alt-svc: h3=\":443\"; ma=86400\n",
      "< \n",
      "* TLSv1.2 (IN), TLS header, Supplemental data (23):\n",
      "* TLSv1.2 (IN), TLS header, Supplemental data (23):\n",
      "* Connection #0 to host api.chess.com left intact\n",
      "{\"chess_rapid\":{\"last\":{\"rating\":2906,\"date\":1727802080,\"rd\":44},\"best\":{\"rating\":2977,\"date\":1675704852,\"game\":\"https://www.chess.com/game/live/121539623527\"},\"record\":{\"win\":78,\"loss\":22,\"draw\":70}},\"chess_bullet\":{\"last\":{\"rating\":3212,\"date\":1730832493,\"rd\":40},\"best\":{\"rating\":3390,\"date\":1679941589,\"game\":\"https://www.chess.com/game/live/70204459381\"},\"record\":{\"win\":996,\"loss\":357,\"draw\":178}},\"chess_blitz\":{\"last\":{\"rating\":3269,\"date\":1734133797,\"rd\":36},\"best\":{\"rating\":3377,\"date\":1704316154,\"game\":\"https://www.chess.com/game/live/94327327601\"},\"record\":{\"win\":3142,\"loss\":683,\"draw\":554}},\"fide\":2882,\"tactics\":{\"highest\":{\"rating\":400,\"date\":1282856720},\"lowest\":{\"rating\":400,\"date\":1282856720}},\"puzzle_rush\":{}}"
     ]
    }
   ],
   "source": [
    "# Testing cURL for the player endpoint\n",
    "\n",
    "! curl -v https://api.chess.com/pub/player/magnuscarlsen/stats"
   ]
  }
 ],
 "metadata": {
  "kernelspec": {
   "display_name": ".venv",
   "language": "python",
   "name": "python3"
  },
  "language_info": {
   "codemirror_mode": {
    "name": "ipython",
    "version": 3
   },
   "file_extension": ".py",
   "mimetype": "text/x-python",
   "name": "python",
   "nbconvert_exporter": "python",
   "pygments_lexer": "ipython3",
   "version": "3.11.8"
  }
 },
 "nbformat": 4,
 "nbformat_minor": 2
}
