{
 "cells": [
  {
   "cell_type": "markdown",
   "metadata": {
    "vscode": {
     "languageId": "plaintext"
    }
   },
   "source": [
    "## 📝 NB01 - Data Collection"
   ]
  },
  {
   "cell_type": "code",
   "execution_count": null,
   "metadata": {},
   "outputs": [],
   "source": [
    "# Importing necessary packages\n",
    "import os\n",
    "import json\n",
    "import requests\n",
    "import pandas as pd\n",
    "import numpy as np\n",
    "import subprocess\n",
    "import time \n",
    "\n",
    "from serpapi import GoogleSearch\n",
    "\n",
    "from dotenv import load_dotenv\n",
    "\n",
    "from functions import *\n",
    "\n",
    "from tqdm.notebook import tqdm\n",
    "tqdm.pandas()"
   ]
  },
  {
   "cell_type": "code",
   "execution_count": null,
   "metadata": {},
   "outputs": [],
   "source": [
    "# Top Chess Players in the world as of December 16, 2024\n",
    "# Ordering within the dictionary does not matter\n",
    "top_players =[\n",
    "    {'name': 'Magnus_Carlsen', 'fide_number': '1503014', 'chess_com_username': 'magnuscarlsen','country':'NO','country_name':'Norway'},\n",
    "    {'name': 'Fabiano_Caruana', 'fide_number': '2020009', 'chess_com_username': 'fabianocaruana','country':'US','country_name':'United States of America'},\n",
    "    {'name': 'Hikaru_Nakamura', 'fide_number': '2016192', 'chess_com_username': 'hikaru','country':'US','country_name':'United States of America'},\n",
    "    {'name': 'Arjun_Erigaisi', 'fide_number': '35009192', 'chess_com_username': 'ghandeevam2003','country':'IN','country_name':'India'},\n",
    "    {'name': 'Gukesh_Dommaraju', 'fide_number': '46616543', 'chess_com_username': 'gukeshdommaraju','country':'IN','country_name':'India'},\n",
    "    {'name': 'Nodirbek_Abdusattorov', 'fide_number': '14204118', 'chess_com_username': 'chesswarrior7197','country':'UZ','country_name':'Uzbekistan'},\n",
    "    {'name': 'Alireza_Firouzja', 'fide_number': '12573981', 'chess_com_username': 'firouzja2003','country':'FR','country_name':'France'},\n",
    "    {'name': 'Ian_Nepomniachtchi', 'fide_number': '4168119', 'chess_com_username': 'lachesisq','country':'RU','country_name':'Russia'},\n",
    "    {'name': 'Yi_Wei', 'fide_number': '8603405', 'chess_com_username': 'wei-yi','country':'CN','country_name':'China'},\n",
    "    {'name': 'Viswanathan_Anand', 'fide_number': '5000017', 'chess_com_username': 'thevish','country':'IN','country_name':'India'}\n",
    "]"
   ]
  },
  {
   "cell_type": "markdown",
   "metadata": {},
   "source": [
    "### Step 1: Fetching FIDE Data"
   ]
  },
  {
   "cell_type": "markdown",
   "metadata": {},
   "source": [
    "To understand how we generate these dataframe, see the functions.py file inside ../notebooks.\n",
    "\n",
    "Below is an example pulling the FIDE information for Magnus Carlsen"
   ]
  },
  {
   "cell_type": "code",
   "execution_count": null,
   "metadata": {},
   "outputs": [],
   "source": [
    "# Testing the fetch_fide_data function with Magnus Carlsen's fide number\n",
    "fide_number = 1503014\n",
    "fide_data = fetch_fide_data(fide_number)\n",
    "print(fide_data)"
   ]
  },
  {
   "cell_type": "markdown",
   "metadata": {},
   "source": [
    "Next we will use a loop to iterate through the top_players dictionary to retrieve all the player's FIDE data.\n",
    "\n",
    "Additionally, this code block will combine all of the players data into a single dataframe."
   ]
  },
  {
   "cell_type": "code",
   "execution_count": null,
   "metadata": {},
   "outputs": [],
   "source": [
    "# List of FIDE IDs for the top players\n",
    "top_10_fide_numbers = [player['fide_number'] for player in top_players]\n",
    "\n",
    "# Fetching data for each FIDE ID\n",
    "all_data = []\n",
    "for fide_number in top_10_fide_numbers:\n",
    "    player_data = fetch_fide_data_with_history(fide_number)\n",
    "    all_data.extend(player_data)\n",
    "\n",
    "# Converting combined data to a pandas dataframe\n",
    "df_combined = pd.DataFrame(all_data)\n"
   ]
  },
  {
   "cell_type": "markdown",
   "metadata": {},
   "source": [
    "In this section we will manipulate how the data is stored in the dataframe. \n",
    "\n",
    "This is done for the purpose of organization or for convenience to our database."
   ]
  },
  {
   "cell_type": "code",
   "execution_count": null,
   "metadata": {},
   "outputs": [],
   "source": [
    "# Changes the format of the name column for easy foreign key integration in chess.db\n",
    "df_combined['name'] = df_combined['name'].apply(lambda x: ' '.join([part.strip() for part in x.split(',')[::-1]]))\n",
    "\n",
    "# Changes the format of the date column from \"2000-Jan\" to \"Jan 2000\"\n",
    "df_combined['date'] = df_combined['date'].apply(lambda x: pd.to_datetime(x, format='%Y-%b').strftime('%b %Y'))\n",
    "\n",
    "# Create a mapping dictionary from country names to country codes\n",
    "country_mapping = {player['country_name']: player['country'] for player in top_players}\n",
    "\n",
    "# Replace the values in the federation column using the mapping\n",
    "df_combined['federation'] = df_combined['federation'].map(country_mapping)"
   ]
  },
  {
   "cell_type": "markdown",
   "metadata": {},
   "source": [
    "Finally, we insert \"NaN\" for missing values and then push the dataframe into a csv"
   ]
  },
  {
   "cell_type": "code",
   "execution_count": null,
   "metadata": {},
   "outputs": [],
   "source": [
    "#\n",
    "df_combined[['standard', 'rapid', 'blitz']] = df_combined[['standard', 'rapid', 'blitz']].replace(r'^\\s*$', np.nan, regex=True)\n",
    "\n",
    "# \n",
    "df_combined[df_combined[['standard', 'rapid', 'blitz']].isnull().any(axis=1)]\n",
    "\n",
    "# Converting the dataframe into a CSV\n",
    "df_combined.to_csv(\"../data/fide_data.csv\", index=False)"
   ]
  },
  {
   "cell_type": "markdown",
   "metadata": {},
   "source": [
    "### Step 2: Google Trends Data via SERPAPI"
   ]
  },
  {
   "cell_type": "markdown",
   "metadata": {},
   "source": [
    "We will now retrieve the google trends data for the keyword search of \"Chess\" inside each of the top ten players country. \n",
    "\n",
    "The code below will collect country G Trends data by iterating through the top_players dictionary above, pulling the country code. This is neccessary due to the API request needing to specify the region to search into. "
   ]
  },
  {
   "cell_type": "code",
   "execution_count": null,
   "metadata": {},
   "outputs": [],
   "source": [
    "# Retrieves the Country Google Trends data (GTrends_Country)\n",
    "destination = \"GTrends_Country\"\n",
    "\n",
    "# Iterate through the top_players dictionary\n",
    "for player in top_players:\n",
    "    country_code = player[\"country\"]  # Extract country code\n",
    "    keyword = \"Chess\"\n",
    "    \n",
    "    # Call the fetch_google_trends function\n",
    "    fetch_google_trends(country_code, keyword, destination, SERPAPI_KEY)"
   ]
  },
  {
   "cell_type": "markdown",
   "metadata": {},
   "source": [
    "Next we use this function to iterate through all countriesl, collecting all the data into a dataframe, then moving it to csv"
   ]
  },
  {
   "cell_type": "code",
   "execution_count": null,
   "metadata": {},
   "outputs": [],
   "source": [
    "# Creating pandas dataframe and CSV for countries\n",
    "all_country_gtrends =[]\n",
    "for country in countries:\n",
    "    all_country_gtrends.extend(gtrends_country(country))\n",
    "final_country_gtrends_df = pd.DataFrame(all_country_gtrends)\n",
    "final_country_gtrends_df.to_csv(\"../data/GTrends_Country/country_gtrends_data.csv\")"
   ]
  },
  {
   "cell_type": "markdown",
   "metadata": {},
   "source": [
    "Now we perform the same action but for collecting the player G Trends data. In this case we will also manipulate the player name so that the search replaces \"_\" for \" \". This is necessary since people generally don't use \"_\" for spaces in their search inquiries.\n",
    "\n",
    "At the end of the block, we combine all of the data requests into a dataframe then convert the dataframe to a csv file."
   ]
  },
  {
   "cell_type": "code",
   "execution_count": 12,
   "metadata": {},
   "outputs": [],
   "source": [
    "# Creating pandas dataframe and CSV for players\n",
    "all_player_gtrends =[]\n",
    "for players in top_players:\n",
    "    name = players[\"name\"].replace(\"_\",\" \")\n",
    "    country = players[\"country\"]\n",
    "    all_player_gtrends.extend(gtrends_players(name,country))\n",
    "    \n",
    "final_player_gtrends_df = pd.DataFrame(all_player_gtrends)\n",
    "final_player_gtrends_df.to_csv(\"../data/GTrends_Player/players_gtrends_data.csv\")"
   ]
  },
  {
   "cell_type": "markdown",
   "metadata": {},
   "source": [
    "### Step 3: Fetching Chess.com Data"
   ]
  },
  {
   "cell_type": "markdown",
   "metadata": {},
   "source": [
    "Now we will be requesting data from the Chess.com api\n",
    "\n",
    "In the block below we are defining the base URL for the API, using the endpoint \"stats\"\n"
   ]
  },
  {
   "cell_type": "code",
   "execution_count": null,
   "metadata": {},
   "outputs": [],
   "source": [
    "base_url = \"https://api.chess.com/pub/player/{}/stats\"\n",
    "headers = {\n",
    "    \"User-Agent\": \"Python script for educational use\"\n",
    "}"
   ]
  },
  {
   "cell_type": "markdown",
   "metadata": {},
   "source": [
    "See functions.py to understand fetch_all_players_stats. \n",
    "\n",
    "In essence, we load the top_players dictionary as an input and it will output a combined dataframe of all ten players stats."
   ]
  },
  {
   "cell_type": "code",
   "execution_count": null,
   "metadata": {},
   "outputs": [],
   "source": [
    "# Fetchşng stats for all players and storing it in a pandas dataframe\n",
    "df_players_stats = fetch_all_players_stats(top_players)"
   ]
  },
  {
   "cell_type": "markdown",
   "metadata": {},
   "source": [
    "Finally, we move the dataframe into a csv."
   ]
  },
  {
   "cell_type": "code",
   "execution_count": null,
   "metadata": {},
   "outputs": [],
   "source": [
    "# Converting the pandas dataframe into a CSV file\n",
    "df_players_stats.to_csv(\"../data/chesscom.csv\", index=False)"
   ]
  },
  {
   "cell_type": "markdown",
   "metadata": {},
   "source": [
    "Click [here](../README.md#order-of-notebooks) to navigate back to the Order of Notebooks table!"
   ]
  }
 ],
 "metadata": {
  "kernelspec": {
   "display_name": ".venv",
   "language": "python",
   "name": "python3"
  },
  "language_info": {
   "codemirror_mode": {
    "name": "ipython",
    "version": 3
   },
   "file_extension": ".py",
   "mimetype": "text/x-python",
   "name": "python",
   "nbconvert_exporter": "python",
   "pygments_lexer": "ipython3",
   "version": "3.11.8"
  }
 },
 "nbformat": 4,
 "nbformat_minor": 2
}
