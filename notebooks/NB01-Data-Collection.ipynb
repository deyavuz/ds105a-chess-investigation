{
 "cells": [
  {
   "cell_type": "markdown",
   "metadata": {
    "vscode": {
     "languageId": "plaintext"
    }
   },
   "source": [
    "## NB01 - Data Collection"
   ]
  },
  {
   "cell_type": "code",
   "execution_count": 3,
   "metadata": {},
   "outputs": [],
   "source": [
    "# Importing necessary packages\n",
    "import os\n",
    "import json\n",
    "import requests\n",
    "import pandas as pd\n",
    "import numpy as np\n",
    "import subprocess\n",
    "\n",
    "from serpapi import GoogleSearch\n",
    "\n",
    "from dotenv import load_dotenv\n",
    "\n",
    "from functions import *\n",
    "\n",
    "from tqdm.notebook import tqdm\n",
    "tqdm.pandas()"
   ]
  },
  {
   "cell_type": "code",
   "execution_count": null,
   "metadata": {},
   "outputs": [],
   "source": [
    "# Top Chess Players in the world as of December 16, 2024\n",
    "# Ordering within the dictionary does not matter\n",
    "top_players =[\n",
    "    {'name': 'Magnus_Carlsen', 'fide_number': '1503014', 'chess_com_username': 'magnuscarlsen','country':'NO'},\n",
    "    {'name': 'Fabiano_Caruana', 'fide_number': '2020009', 'chess_com_username': 'fabianocaruana','country':'US'},\n",
    "    {'name': 'Hikaru_Nakamura', 'fide_number': '2016192', 'chess_com_username': 'hikaru','country':'US'},\n",
    "    {'name': 'Arjun_Erigaisi', 'fide_number': '35009192', 'chess_com_username': 'ghandeevam2003','country':'IN'},\n",
    "    {'name': 'Gukesh_Dommaraju', 'fide_number': '46616543', 'chess_com_username': 'gukeshdommaraju','country':'IN'},\n",
    "    {'name': 'Nodirbek_Abdusattorov', 'fide_number': '14204118', 'chess_com_username': 'chesswarrior7197','country':'UZ'},\n",
    "    {'name': 'Alireza_Firouzja', 'fide_number': '12573981', 'chess_com_username': 'firouzja2003','country':'FR'},\n",
    "    {'name': 'Ian_Nepomniachtchi', 'fide_number': '4168119', 'chess_com_username': 'lachesisq','country':'RU'},\n",
    "    {'name': 'Yi_Wei', 'fide_number': '8603405', 'chess_com_username': 'wei-yi','country':'CN'},\n",
    "    {'name': 'Viswanathan_Anand', 'fide_number': '5000017', 'chess_com_username': 'thevish','country':'IN'}\n",
    "]"
   ]
  },
  {
   "cell_type": "code",
   "execution_count": null,
   "metadata": {},
   "outputs": [],
   "source": [
    "# Testing the fetch_fide_data function with Magnus Carlsen's fide number\n",
    "fide_number = 1503014\n",
    "fide_data = fetch_fide_data(fide_number)\n",
    "print(fide_data)"
   ]
  },
  {
   "cell_type": "code",
   "execution_count": null,
   "metadata": {},
   "outputs": [],
   "source": [
    "# List of FIDE IDs for the top players (example FIDE IDs)\n",
    "top_10_fide_numbers = [player['fide_number'] for player in top_players]\n",
    "\n",
    "\n",
    "# Fetch data for each FIDE ID\n",
    "all_data = []\n",
    "for fide_number in top_10_fide_numbers:\n",
    "    player_data = fetch_fide_data_with_history(fide_number)\n",
    "    all_data.extend(player_data)\n",
    "\n",
    "# Convert combined data to a pandas DataFrame\n",
    "df_combined = pd.DataFrame(all_data)\n",
    "\n",
    "# Display the DataFrame\n",
    "print(df_combined)\n"
   ]
  },
  {
   "cell_type": "code",
   "execution_count": null,
   "metadata": {},
   "outputs": [],
   "source": [
    "df_combined"
   ]
  },
  {
   "cell_type": "code",
   "execution_count": null,
   "metadata": {},
   "outputs": [],
   "source": [
    "df_combined.to_csv(\"../data/Fide/fide_data.csv\")"
   ]
  },
  {
   "cell_type": "code",
   "execution_count": null,
   "metadata": {},
   "outputs": [],
   "source": [
    "df_combined[['standard', 'rapid', 'blitz']] = df_combined[['standard', 'rapid', 'blitz']].replace(r'^\\s*$', np.nan, regex=True)"
   ]
  },
  {
   "cell_type": "code",
   "execution_count": null,
   "metadata": {},
   "outputs": [],
   "source": [
    "df_combined[df_combined[['standard', 'rapid', 'blitz']].isnull().any(axis=1)]"
   ]
  },
  {
   "cell_type": "markdown",
   "metadata": {},
   "source": [
    "### Step 3: Google Trends data via SERPAPI"
   ]
  },
  {
   "cell_type": "code",
   "execution_count": null,
   "metadata": {},
   "outputs": [],
   "source": [
    "# Pulls key from .env \n",
    "SERPAPI_KEY = os.getenv(\"serpapi_key\")"
   ]
  },
  {
   "cell_type": "code",
   "execution_count": null,
   "metadata": {},
   "outputs": [],
   "source": [
    "# Fetches Google Trends data since 2004 for a given keyword and country code - saves it to a JSON file.\n",
    "def fetch_google_trends(country_code, keyword, destination, SERPAPI_KEY):    \n",
    "    # destination is used to craft the file name and where the file is saved\n",
    "\n",
    "    # Keeps the file names uniform - changing artist_name from here on\n",
    "    keyword_filename = keyword\n",
    "\n",
    "    # Replace underscores with spaces in the artist's name\n",
    "    keyword = keyword_filename.replace(\"_\", \" \")\n",
    "    \n",
    "    # Parameters for the API call\n",
    "    params = {\n",
    "        \"engine\": \"google_trends\",\n",
    "        \"q\": keyword,\n",
    "        \"data_type\": \"TIMESERIES\",\n",
    "        \"date\": \"all\",  # Specify the time range\n",
    "        \"api_key\": SERPAPI_KEY , # Replace with your SerpAPI key\n",
    "        \"geo\": country_code , \n",
    "    }\n",
    "    \n",
    "    # Fetch data using SerpAPI\n",
    "    search = GoogleSearch(params)\n",
    "    results = search.get_dict()\n",
    "    \n",
    "    # Extract 'interest_over_time' section\n",
    "    interest_over_time = results.get(\"interest_over_time\", {})\n",
    "    \n",
    "    # Define the output file path\n",
    "    output_path = f\"../data/{destination}/{keyword}_{country_code}_{destination}.json\"\n",
    "\n",
    "    # Save the data as a JSON file\n",
    "    with open(output_path, \"w\") as file:\n",
    "        json.dump(interest_over_time, file, indent=4)\n",
    "    \n",
    "    return print(f\"Google Trends data successfully saved to {output_path}\")"
   ]
  },
  {
   "cell_type": "code",
   "execution_count": null,
   "metadata": {},
   "outputs": [],
   "source": [
    "We will now retrieve the google trends data for the keyword search of \"Chess\" inside each of the top ten players country. \n",
    "\n",
    "# Retrieves the Country Google Trends data (GTrends_Country\n",
    "destination = \"GTrends_Country\"\n",
    "\n",
    "# Remove the hashtag below to run the loop\n",
    "# for countries in player_countries:\n",
    "    keyword = \"Chess\"\n",
    "    country_code = countries\n",
    "    \n",
    "    # Call the fetch_google_trends function\n",
    "    fetch_google_trends(country_code, keyword, destination, SERPAPI_KEY)"
   ]
  }
 ],
 "metadata": {
  "kernelspec": {
   "display_name": ".venv",
   "language": "python",
   "name": "python3"
  },
  "language_info": {
   "codemirror_mode": {
    "name": "ipython",
    "version": 3
   },
   "file_extension": ".py",
   "mimetype": "text/x-python",
   "name": "python",
   "nbconvert_exporter": "python",
   "pygments_lexer": "ipython3",
   "version": "3.10.0"
  }
 },
 "nbformat": 4,
 "nbformat_minor": 2
}
