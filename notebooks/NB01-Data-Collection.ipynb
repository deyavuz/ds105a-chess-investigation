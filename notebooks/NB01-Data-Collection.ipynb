{
 "cells": [
  {
   "cell_type": "markdown",
   "metadata": {
    "vscode": {
     "languageId": "plaintext"
    }
   },
   "source": [
    "## NB01 - Data Collection"
   ]
  },
  {
   "cell_type": "code",
   "execution_count": 3,
   "metadata": {},
   "outputs": [],
   "source": [
    "# Importing necessary packages\n",
    "import os\n",
    "import json\n",
    "import requests\n",
    "import pandas as pd\n",
    "import numpy as np\n",
    "import subprocess\n",
    "import time \n",
    "\n",
    "from serpapi import GoogleSearch\n",
    "\n",
    "from dotenv import load_dotenv\n",
    "\n",
    "from functions import *\n",
    "\n",
    "from tqdm.notebook import tqdm\n",
    "tqdm.pandas()"
   ]
  },
  {
   "cell_type": "code",
   "execution_count": null,
   "metadata": {},
   "outputs": [],
   "source": [
    "# Top Chess Players in the world as of December 16, 2024\n",
    "# Ordering within the dictionary does not matter\n",
    "top_players =[\n",
    "    {'name': 'Magnus_Carlsen', 'fide_number': '1503014', 'chess_com_username': 'magnuscarlsen','country':'NO'},\n",
    "    {'name': 'Fabiano_Caruana', 'fide_number': '2020009', 'chess_com_username': 'fabianocaruana','country':'US'},\n",
    "    {'name': 'Hikaru_Nakamura', 'fide_number': '2016192', 'chess_com_username': 'hikaru','country':'US'},\n",
    "    {'name': 'Arjun_Erigaisi', 'fide_number': '35009192', 'chess_com_username': 'ghandeevam2003','country':'IN'},\n",
    "    {'name': 'Gukesh_Dommaraju', 'fide_number': '46616543', 'chess_com_username': 'gukeshdommaraju','country':'IN'},\n",
    "    {'name': 'Nodirbek_Abdusattorov', 'fide_number': '14204118', 'chess_com_username': 'chesswarrior7197','country':'UZ'},\n",
    "    {'name': 'Alireza_Firouzja', 'fide_number': '12573981', 'chess_com_username': 'firouzja2003','country':'FR'},\n",
    "    {'name': 'Ian_Nepomniachtchi', 'fide_number': '4168119', 'chess_com_username': 'lachesisq','country':'RU'},\n",
    "    {'name': 'Yi_Wei', 'fide_number': '8603405', 'chess_com_username': 'wei-yi','country':'CN'},\n",
    "    {'name': 'Viswanathan_Anand', 'fide_number': '5000017', 'chess_com_username': 'thevish','country':'IN'}\n",
    "]"
   ]
  },
  {
   "cell_type": "markdown",
   "metadata": {},
   "source": [
    "### Step 1: Fetching FIDE Data"
   ]
  },
  {
   "cell_type": "code",
   "execution_count": null,
   "metadata": {},
   "outputs": [],
   "source": [
    "# Testing the fetch_fide_data function with Magnus Carlsen's fide number\n",
    "fide_number = 1503014\n",
    "fide_data = fetch_fide_data(fide_number)\n",
    "print(fide_data)"
   ]
  },
  {
   "cell_type": "code",
   "execution_count": null,
   "metadata": {},
   "outputs": [],
   "source": [
    "# List of FIDE IDs for the top players\n",
    "top_10_fide_numbers = [player['fide_number'] for player in top_players]\n",
    "\n",
    "# Fetching data for each FIDE ID\n",
    "all_data = []\n",
    "for fide_number in top_10_fide_numbers:\n",
    "    player_data = fetch_fide_data_with_history(fide_number)\n",
    "    all_data.extend(player_data)\n",
    "\n",
    "# Converting combined data to a pandas dataframe\n",
    "df_combined = pd.DataFrame(all_data)\n",
    "\n",
    "# Displaying the dataframe\n",
    "df_combined\n"
   ]
  },
  {
   "cell_type": "code",
   "execution_count": null,
   "metadata": {},
   "outputs": [],
   "source": [
    "# Converting the dataframe into a CSV\n",
    "df_combined.to_csv(\"../data/Fide/fide_data.csv\")\n",
    "\n",
    "# \n",
    "df_combined[['standard', 'rapid', 'blitz']] = df_combined[['standard', 'rapid', 'blitz']].replace(r'^\\s*$', np.nan, regex=True)\n",
    "\n",
    "# \n",
    "df_combined[df_combined[['standard', 'rapid', 'blitz']].isnull().any(axis=1)]"
   ]
  },
  {
   "cell_type": "markdown",
   "metadata": {},
   "source": [
    "### Step 2: Google Trends Data via SERPAPI"
   ]
  },
  {
   "cell_type": "code",
   "execution_count": null,
   "metadata": {},
   "outputs": [],
   "source": [
    "We will now retrieve the google trends data for the keyword search of \"Chess\" inside each of the top ten players country. \n",
    "\n",
    "# Retrieves the Country Google Trends data (GTrends_Country\n",
    "destination = \"GTrends_Country\"\n",
    "\n",
    "# Remove the hashtag below to run the loop\n",
    "# for countries in player_countries:\n",
    "    keyword = \"Chess\"\n",
    "    country_code = countries\n",
    "    \n",
    "    # Call the fetch_google_trends function\n",
    "    fetch_google_trends(country_code, keyword, destination, SERPAPI_KEY)\n",
    "\n"
   ]
  },
  {
   "cell_type": "code",
   "execution_count": null,
   "metadata": {},
   "outputs": [],
   "source": [
    "# Creating pandas dataframe and CSV for players\n",
    "all_player_gtrends =[]\n",
    "for players in top_players:\n",
    "    name = players[\"name\"].replace(\"_\",\" \")\n",
    "    country = players[\"country\"]\n",
    "    all_player_gtrends.extend(gtrends_players(name,country))\n",
    "    \n",
    "final_player_gtrends_df = pd.DataFrame(all_player_gtrends)\n",
    "final_player_gtrends_df.to_csv(\"../data/GTrends_Player/players_gtrends_data.csv\")"
   ]
  },
  {
   "cell_type": "code",
   "execution_count": null,
   "metadata": {},
   "outputs": [],
   "source": [
    "# Creating pandas dataframe and CSV for countries\n",
    "all_country_gtrends =[]\n",
    "for country in countries:\n",
    "    all_country_gtrends.extend(gtrends_country(country))\n",
    "final_country_gtrends_df = pd.DataFrame(all_country_gtrends)\n",
    "final_country_gtrends_df.to_csv(\"../data/GTrends_Country/country_gtrends_data.csv\")"
   ]
  },
  {
   "cell_type": "markdown",
   "metadata": {},
   "source": [
    "### Step 3: Fetching Chess.com Data"
   ]
  },
  {
   "cell_type": "code",
   "execution_count": null,
   "metadata": {},
   "outputs": [],
   "source": [
    "# Defining the base URL for the API, using the endpoint \"stats\"\n",
    "base_url = \"https://api.chess.com/pub/player/{}/stats\"\n",
    "headers = {\n",
    "    \"User-Agent\": \"Python script for educational use\"\n",
    "}"
   ]
  },
  {
   "cell_type": "code",
   "execution_count": null,
   "metadata": {},
   "outputs": [],
   "source": [
    "# Fetchşng stats for all players and storing it in a pandas dataframe\n",
    "df_players_stats = fetch_all_players_stats(top_players)\n",
    "\n",
    "# Displaying the dataframe\n",
    "df_players_stats"
   ]
  },
  {
   "cell_type": "code",
   "execution_count": null,
   "metadata": {},
   "outputs": [],
   "source": [
    "# Converting the pandas dataframe into a CSV file\n",
    "df_players_stats.to_csv(\"../data/Chess_com/chesscom.csv\")"
   ]
  }
 ],
 "metadata": {
  "kernelspec": {
   "display_name": ".venv",
   "language": "python",
   "name": "python3"
  },
  "language_info": {
   "codemirror_mode": {
    "name": "ipython",
    "version": 3
   },
   "file_extension": ".py",
   "mimetype": "text/x-python",
   "name": "python",
   "nbconvert_exporter": "python",
   "pygments_lexer": "ipython3",
   "version": "3.10.0"
  }
 },
 "nbformat": 4,
 "nbformat_minor": 2
}
