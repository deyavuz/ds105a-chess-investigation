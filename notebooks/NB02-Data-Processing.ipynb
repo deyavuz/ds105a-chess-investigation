{
 "cells": [
  {
   "cell_type": "markdown",
   "metadata": {},
   "source": [
    "## 💻 NB02 - Data Processing\n",
    "\n",
    "This notebook will display how we moved the collected csv data in the data tabs into a singular database called chess.db"
   ]
  },
  {
   "cell_type": "code",
   "execution_count": 4,
   "metadata": {},
   "outputs": [],
   "source": [
    "# Imports\n",
    "import sqlite3\n",
    "import pandas as pd"
   ]
  },
  {
   "cell_type": "markdown",
   "metadata": {},
   "source": [
    "The following dictionary will be used to:\n",
    "\n",
    "1) Designate the table name of the csv file we import into the db\n",
    "2) Include the file destination of the csv"
   ]
  },
  {
   "cell_type": "code",
   "execution_count": 5,
   "metadata": {},
   "outputs": [],
   "source": [
    "# Dictionary of CSV file paths and corresponding table names\n",
    "csv_paths = {\n",
    "    \"chesscom\": \"../data/Chess_com/chesscom.csv\",\n",
    "    \"fide\": \"../data/Fide/fide_data.csv\",\n",
    "    \"country_gtrends\": \"../data/GTrends_Country/country_gtrends_data.csv\",\n",
    "    \"players_gtrends\": \"../data/GTrends_Player/players_gtrends_data.csv\"\n",
    "}"
   ]
  },
  {
   "cell_type": "markdown",
   "metadata": {},
   "source": [
    "Next we create the database, including its location, and create the sqlite3 connection"
   ]
  },
  {
   "cell_type": "code",
   "execution_count": 6,
   "metadata": {},
   "outputs": [],
   "source": [
    "# SQLite database name\n",
    "db_name = \"../data/chess.db\"\n",
    "\n",
    "# Connect to SQLite database (creates it if it doesn’t exist)\n",
    "conn = sqlite3.connect(db_name)\n",
    "cursor = conn.cursor()"
   ]
  },
  {
   "cell_type": "markdown",
   "metadata": {},
   "source": [
    "Next we will use a for loop to iterate through our dictionary, creating and connecting the individual csv files to their own tables within chess.db\n",
    "\n",
    "To finish the process, we close the connection to the database and print a message indicating success"
   ]
  },
  {
   "cell_type": "code",
   "execution_count": 7,
   "metadata": {},
   "outputs": [
    {
     "name": "stdout",
     "output_type": "stream",
     "text": [
      "Database created successfully with tables for each CSV file.\n"
     ]
    }
   ],
   "source": [
    "# Loop through each CSV file and create a corresponding table\n",
    "for table_name, file_path in csv_paths.items():\n",
    "    df = pd.read_csv(file_path)  # Read CSV into DataFrame\n",
    "    df.to_sql(table_name, conn, if_exists=\"replace\", index=False)  # Write to SQLite table\n",
    "\n",
    "print(\"Database created successfully with tables for each CSV file.\")\n"
   ]
  }
 ],
 "metadata": {
  "kernelspec": {
   "display_name": ".venv",
   "language": "python",
   "name": "python3"
  },
  "language_info": {
   "codemirror_mode": {
    "name": "ipython",
    "version": 3
   },
   "file_extension": ".py",
   "mimetype": "text/x-python",
   "name": "python",
   "nbconvert_exporter": "python",
   "pygments_lexer": "ipython3",
   "version": "3.10.0"
  }
 },
 "nbformat": 4,
 "nbformat_minor": 2
}
