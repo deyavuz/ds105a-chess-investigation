{
 "cells": [
  {
   "cell_type": "code",
   "execution_count": null,
   "metadata": {},
   "outputs": [],
   "source": []
  },
  {
   "cell_type": "code",
   "execution_count": 8,
   "metadata": {},
   "outputs": [],
   "source": [
    "import matplotlib.pyplot as plt\n",
    "import numpy as np\n",
    "import pandas as pd\n",
    "import plotly.express as p"
   ]
  },
  {
   "cell_type": "code",
   "execution_count": 9,
   "metadata": {},
   "outputs": [],
   "source": [
    "def create_line_graph_popularity(name, country, date, player_search, country_search):\n",
    "    data = pd.DataFrame({\n",
    "        'Date': pd.to_datetime(date),\n",
    "        f\"{name}'s search\": player_search,\n",
    "        f\"{country}'s search\": country_search\n",
    "    })\n",
    "\n",
    "    # Melt DataFrame for interactive plotting\n",
    "    data_melted = data.melt(id_vars=['Date'], var_name='Search Type', value_name='Search Volume')\n",
    "\n",
    "    # Calculate correlation\n",
    "    correlation = np.corrcoef(player_search, country_search)[0, 1]\n",
    "\n",
    "    # Create interactive plot\n",
    "    fig = px.line(\n",
    "        data_melted, x='Date', y='Search Volume', color='Search Type',\n",
    "        title=f\"{name}'s Popularity Graph\",\n",
    "        labels={'Search Volume': 'Search Volume', 'Date': 'Date'},\n",
    "        template=\"plotly_white\" \n",
    "    )\n",
    "\n",
    "    fig.add_annotation(\n",
    "        x=data['Daate'].iloc[len(data) // 2], \n",
    "        y=max(player_search) * 0.9,\n",
    "        text=f\"Correlation: {correlation:.2f}\",\n",
    "        showarrow=False,\n",
    "        font=dict(size=14, color=\"blue\"),\n",
    "        bgcolor=\"white\"\n",
    "    )\n",
    "\n",
    "    # Show interactive plot\n",
    "    fig.show()"
   ]
  },
  {
   "cell_type": "code",
   "execution_count": 10,
   "metadata": {},
   "outputs": [],
   "source": [
    "import sqlite3\n",
    "def player_info_returner(name,country_code):\n",
    "    conn = sqlite3.connect(\"../data/chess.db\")\n",
    "    cursor = conn.cursor()\n",
    "\n",
    "\n",
    "    country = cursor.execute(f\"SELECT date, search_rate FROM country_gtrends WHERE country = '{country_code}'\").fetchall()\n",
    "    player = cursor.execute(f\"SELECT date, search_rate FROM players_gtrends WHERE name='{name}'\").fetchall()\n",
    "\n",
    "    dates = [date[0] for date in country]\n",
    "    dates = pd.to_datetime(dates, format=\"%b %Y\")\n",
    "    country_search=[rate[1] for rate in country]\n",
    "    player_search=[rate[1] for rate in player[:-1]]\n",
    "\n",
    "    conn.close()\n",
    "    return dates,country_search,player_search"
   ]
  },
  {
   "cell_type": "code",
   "execution_count": 11,
   "metadata": {},
   "outputs": [
    {
     "ename": "NameError",
     "evalue": "name 'px' is not defined",
     "output_type": "error",
     "traceback": [
      "\u001b[0;31m---------------------------------------------------------------------------\u001b[0m",
      "\u001b[0;31mNameError\u001b[0m                                 Traceback (most recent call last)",
      "Cell \u001b[0;32mIn[11], line 16\u001b[0m\n\u001b[1;32m     14\u001b[0m date,country_search,player_search \u001b[38;5;241m=\u001b[39m player_info_returner(players[\u001b[38;5;124m'\u001b[39m\u001b[38;5;124mname\u001b[39m\u001b[38;5;124m'\u001b[39m]\u001b[38;5;241m.\u001b[39mreplace(\u001b[38;5;124m'\u001b[39m\u001b[38;5;124m_\u001b[39m\u001b[38;5;124m'\u001b[39m, \u001b[38;5;124m'\u001b[39m\u001b[38;5;124m \u001b[39m\u001b[38;5;124m'\u001b[39m),players[\u001b[38;5;124m'\u001b[39m\u001b[38;5;124mcountry\u001b[39m\u001b[38;5;124m'\u001b[39m])\n\u001b[1;32m     15\u001b[0m \u001b[38;5;28mprint\u001b[39m\n\u001b[0;32m---> 16\u001b[0m \u001b[43mcreate_line_graph_popularity\u001b[49m\u001b[43m(\u001b[49m\u001b[43mplayers\u001b[49m\u001b[43m[\u001b[49m\u001b[38;5;124;43m\"\u001b[39;49m\u001b[38;5;124;43mname\u001b[39;49m\u001b[38;5;124;43m\"\u001b[39;49m\u001b[43m]\u001b[49m\u001b[43m,\u001b[49m\u001b[43mplayers\u001b[49m\u001b[43m[\u001b[49m\u001b[38;5;124;43m\"\u001b[39;49m\u001b[38;5;124;43mcountry_name\u001b[39;49m\u001b[38;5;124;43m\"\u001b[39;49m\u001b[43m]\u001b[49m\u001b[43m,\u001b[49m\u001b[43mdate\u001b[49m\u001b[43m,\u001b[49m\u001b[43mplayer_search\u001b[49m\u001b[43m,\u001b[49m\u001b[43mcountry_search\u001b[49m\u001b[43m)\u001b[49m\n",
      "Cell \u001b[0;32mIn[9], line 15\u001b[0m, in \u001b[0;36mcreate_line_graph_popularity\u001b[0;34m(name, country, date, player_search, country_search)\u001b[0m\n\u001b[1;32m     12\u001b[0m correlation \u001b[38;5;241m=\u001b[39m np\u001b[38;5;241m.\u001b[39mcorrcoef(player_search, country_search)[\u001b[38;5;241m0\u001b[39m, \u001b[38;5;241m1\u001b[39m]\n\u001b[1;32m     14\u001b[0m \u001b[38;5;66;03m# Create interactive plot\u001b[39;00m\n\u001b[0;32m---> 15\u001b[0m fig \u001b[38;5;241m=\u001b[39m \u001b[43mpx\u001b[49m\u001b[38;5;241m.\u001b[39mline(\n\u001b[1;32m     16\u001b[0m     data_melted, x\u001b[38;5;241m=\u001b[39m\u001b[38;5;124m'\u001b[39m\u001b[38;5;124mDate\u001b[39m\u001b[38;5;124m'\u001b[39m, y\u001b[38;5;241m=\u001b[39m\u001b[38;5;124m'\u001b[39m\u001b[38;5;124mSearch Volume\u001b[39m\u001b[38;5;124m'\u001b[39m, color\u001b[38;5;241m=\u001b[39m\u001b[38;5;124m'\u001b[39m\u001b[38;5;124mSearch Type\u001b[39m\u001b[38;5;124m'\u001b[39m,\n\u001b[1;32m     17\u001b[0m     title\u001b[38;5;241m=\u001b[39m\u001b[38;5;124mf\u001b[39m\u001b[38;5;124m\"\u001b[39m\u001b[38;5;132;01m{\u001b[39;00mname\u001b[38;5;132;01m}\u001b[39;00m\u001b[38;5;124m'\u001b[39m\u001b[38;5;124ms Popularity Graph\u001b[39m\u001b[38;5;124m\"\u001b[39m,\n\u001b[1;32m     18\u001b[0m     labels\u001b[38;5;241m=\u001b[39m{\u001b[38;5;124m'\u001b[39m\u001b[38;5;124mSearch Volume\u001b[39m\u001b[38;5;124m'\u001b[39m: \u001b[38;5;124m'\u001b[39m\u001b[38;5;124mSearch Volume\u001b[39m\u001b[38;5;124m'\u001b[39m, \u001b[38;5;124m'\u001b[39m\u001b[38;5;124mDate\u001b[39m\u001b[38;5;124m'\u001b[39m: \u001b[38;5;124m'\u001b[39m\u001b[38;5;124mDate\u001b[39m\u001b[38;5;124m'\u001b[39m},\n\u001b[1;32m     19\u001b[0m     template\u001b[38;5;241m=\u001b[39m\u001b[38;5;124m\"\u001b[39m\u001b[38;5;124mplotly_white\u001b[39m\u001b[38;5;124m\"\u001b[39m \n\u001b[1;32m     20\u001b[0m )\n\u001b[1;32m     22\u001b[0m fig\u001b[38;5;241m.\u001b[39madd_annotation(\n\u001b[1;32m     23\u001b[0m     x\u001b[38;5;241m=\u001b[39mdata[\u001b[38;5;124m'\u001b[39m\u001b[38;5;124mDaate\u001b[39m\u001b[38;5;124m'\u001b[39m]\u001b[38;5;241m.\u001b[39miloc[\u001b[38;5;28mlen\u001b[39m(data) \u001b[38;5;241m/\u001b[39m\u001b[38;5;241m/\u001b[39m \u001b[38;5;241m2\u001b[39m], \n\u001b[1;32m     24\u001b[0m     y\u001b[38;5;241m=\u001b[39m\u001b[38;5;28mmax\u001b[39m(player_search) \u001b[38;5;241m*\u001b[39m \u001b[38;5;241m0.9\u001b[39m,\n\u001b[0;32m   (...)\u001b[0m\n\u001b[1;32m     28\u001b[0m     bgcolor\u001b[38;5;241m=\u001b[39m\u001b[38;5;124m\"\u001b[39m\u001b[38;5;124mwhite\u001b[39m\u001b[38;5;124m\"\u001b[39m\n\u001b[1;32m     29\u001b[0m )\n\u001b[1;32m     31\u001b[0m \u001b[38;5;66;03m# Show interactive plot\u001b[39;00m\n",
      "\u001b[0;31mNameError\u001b[0m: name 'px' is not defined"
     ]
    }
   ],
   "source": [
    "top_players =[\n",
    "    {'name': 'Magnus_Carlsen','country':'NO','country_name':'Norway'},\n",
    "    {'name': 'Fabiano_Caruana','country':'US','country_name':'United States of America'},\n",
    "    {'name': 'Hikaru_Nakamura','country':'US','country_name':'United States of America'},\n",
    "    {'name': 'Arjun_Erigaisi','country':'IN','country_name':'India'},\n",
    "    {'name': 'Gukesh_Dommaraju','country':'IN','country_name':'India'},\n",
    "    {'name': 'Nodirbek_Abdusattorov','country':'UZ','country_name':'Uzbekistan'},\n",
    "    {'name': 'Alireza_Firouzja','country':'FR','country_name':'France'},\n",
    "    {'name': 'Ian_Nepomniachtchi','country':'RU','country_name':'Russia'},\n",
    "    {'name': 'Yi_Wei','country':'CN','country_name':'China'},\n",
    "    {'name': 'Viswanathan_Anand','country':'IN','country_name':'India'}\n",
    "]\n",
    "for players in top_players:\n",
    "    date,country_search,player_search = player_info_returner(players['name'].replace('_', ' '),players['country'])\n",
    "    print\n",
    "    create_line_graph_popularity(players[\"name\"],players[\"country_name\"],date,player_search,country_search)"
   ]
  }
 ],
 "metadata": {
  "kernelspec": {
   "display_name": ".venv",
   "language": "python",
   "name": "python3"
  },
  "language_info": {
   "codemirror_mode": {
    "name": "ipython",
    "version": 3
   },
   "file_extension": ".py",
   "mimetype": "text/x-python",
   "name": "python",
   "nbconvert_exporter": "python",
   "pygments_lexer": "ipython3",
   "version": "3.11.8"
  }
 },
 "nbformat": 4,
 "nbformat_minor": 2
}
